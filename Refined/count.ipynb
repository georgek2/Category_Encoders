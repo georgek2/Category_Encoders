{
 "cells": [
  {
   "cell_type": "code",
   "execution_count": 1,
   "metadata": {},
   "outputs": [],
   "source": [
    "import pandas as pd\n",
    "import numpy as np\n",
    "\n",
    "import category_encoders as ce\n",
    "import lightgbm as lgb\n",
    "from sklearn import metrics"
   ]
  },
  {
   "cell_type": "code",
   "execution_count": 2,
   "metadata": {},
   "outputs": [],
   "source": [
    "data = pd.read_csv('kickstarter.csv', parse_dates=['launched'])"
   ]
  },
  {
   "cell_type": "code",
   "execution_count": 3,
   "metadata": {},
   "outputs": [
    {
     "data": {
      "text/html": [
       "<div>\n",
       "<style scoped>\n",
       "    .dataframe tbody tr th:only-of-type {\n",
       "        vertical-align: middle;\n",
       "    }\n",
       "\n",
       "    .dataframe tbody tr th {\n",
       "        vertical-align: top;\n",
       "    }\n",
       "\n",
       "    .dataframe thead th {\n",
       "        text-align: right;\n",
       "    }\n",
       "</style>\n",
       "<table border=\"1\" class=\"dataframe\">\n",
       "  <thead>\n",
       "    <tr style=\"text-align: right;\">\n",
       "      <th></th>\n",
       "      <th>ID</th>\n",
       "      <th>name</th>\n",
       "      <th>category</th>\n",
       "      <th>main_category</th>\n",
       "      <th>currency</th>\n",
       "      <th>deadline</th>\n",
       "      <th>goal</th>\n",
       "      <th>launched</th>\n",
       "      <th>pledged</th>\n",
       "      <th>state</th>\n",
       "      <th>backers</th>\n",
       "      <th>country</th>\n",
       "      <th>usd pledged</th>\n",
       "      <th>usd_pledged_real</th>\n",
       "      <th>usd_goal_real</th>\n",
       "      <th>outcome</th>\n",
       "    </tr>\n",
       "  </thead>\n",
       "  <tbody>\n",
       "    <tr>\n",
       "      <th>0</th>\n",
       "      <td>1000002330</td>\n",
       "      <td>The Songs of Adelaide &amp; Abullah</td>\n",
       "      <td>Poetry</td>\n",
       "      <td>Publishing</td>\n",
       "      <td>GBP</td>\n",
       "      <td>2015-10-09</td>\n",
       "      <td>1000.0</td>\n",
       "      <td>2015-08-11 12:12:28</td>\n",
       "      <td>0.0</td>\n",
       "      <td>failed</td>\n",
       "      <td>0</td>\n",
       "      <td>GB</td>\n",
       "      <td>0.0</td>\n",
       "      <td>0.0</td>\n",
       "      <td>1533.95</td>\n",
       "      <td>0</td>\n",
       "    </tr>\n",
       "    <tr>\n",
       "      <th>1</th>\n",
       "      <td>1000003930</td>\n",
       "      <td>Greeting From Earth: ZGAC Arts Capsule For ET</td>\n",
       "      <td>Narrative Film</td>\n",
       "      <td>Film &amp; Video</td>\n",
       "      <td>USD</td>\n",
       "      <td>2017-11-01</td>\n",
       "      <td>30000.0</td>\n",
       "      <td>2017-09-02 04:43:57</td>\n",
       "      <td>2421.0</td>\n",
       "      <td>failed</td>\n",
       "      <td>15</td>\n",
       "      <td>US</td>\n",
       "      <td>100.0</td>\n",
       "      <td>2421.0</td>\n",
       "      <td>30000.00</td>\n",
       "      <td>0</td>\n",
       "    </tr>\n",
       "  </tbody>\n",
       "</table>\n",
       "</div>"
      ],
      "text/plain": [
       "           ID                                           name        category  \\\n",
       "0  1000002330                The Songs of Adelaide & Abullah          Poetry   \n",
       "1  1000003930  Greeting From Earth: ZGAC Arts Capsule For ET  Narrative Film   \n",
       "\n",
       "  main_category currency    deadline     goal            launched  pledged  \\\n",
       "0    Publishing      GBP  2015-10-09   1000.0 2015-08-11 12:12:28      0.0   \n",
       "1  Film & Video      USD  2017-11-01  30000.0 2017-09-02 04:43:57   2421.0   \n",
       "\n",
       "    state  backers country  usd pledged  usd_pledged_real  usd_goal_real  \\\n",
       "0  failed        0      GB          0.0               0.0        1533.95   \n",
       "1  failed       15      US        100.0            2421.0       30000.00   \n",
       "\n",
       "   outcome  \n",
       "0        0  \n",
       "1        0  "
      ]
     },
     "execution_count": 3,
     "metadata": {},
     "output_type": "execute_result"
    }
   ],
   "source": [
    "data = data.assign(outcome=(data.state == 'successful').astype(int))\n",
    "data.head(2)"
   ]
  },
  {
   "cell_type": "code",
   "execution_count": 4,
   "metadata": {},
   "outputs": [
    {
     "data": {
      "text/plain": [
       "(378661, 16)"
      ]
     },
     "execution_count": 4,
     "metadata": {},
     "output_type": "execute_result"
    }
   ],
   "source": [
    "data.shape"
   ]
  },
  {
   "cell_type": "code",
   "execution_count": 5,
   "metadata": {},
   "outputs": [
    {
     "data": {
      "text/plain": [
       "(375862, 16)"
      ]
     },
     "execution_count": 5,
     "metadata": {},
     "output_type": "execute_result"
    }
   ],
   "source": [
    "data = data.query(\"state != 'live'\")\n",
    "data.shape"
   ]
  },
  {
   "cell_type": "code",
   "execution_count": 6,
   "metadata": {},
   "outputs": [
    {
     "data": {
      "text/plain": [
       "(375862, 20)"
      ]
     },
     "execution_count": 6,
     "metadata": {},
     "output_type": "execute_result"
    }
   ],
   "source": [
    "data = data.assign(hour=data.launched.dt.hour,\n",
    "                  day=data.launched.dt.day,\n",
    "                  month=data.launched.dt.month,\n",
    "                  year=data.launched.dt.year)\n",
    "data.shape"
   ]
  },
  {
   "cell_type": "code",
   "execution_count": 7,
   "metadata": {},
   "outputs": [],
   "source": [
    "cat_features = ['category', 'currency', 'country']"
   ]
  },
  {
   "cell_type": "code",
   "execution_count": 8,
   "metadata": {},
   "outputs": [],
   "source": [
    "encoder = ce.CountEncoder()"
   ]
  },
  {
   "cell_type": "code",
   "execution_count": 9,
   "metadata": {},
   "outputs": [],
   "source": [
    "num_X = data[['hour', 'day', 'month', 'year', 'goal', 'outcome']]"
   ]
  },
  {
   "cell_type": "code",
   "execution_count": 10,
   "metadata": {},
   "outputs": [
    {
     "data": {
      "text/html": [
       "<div>\n",
       "<style scoped>\n",
       "    .dataframe tbody tr th:only-of-type {\n",
       "        vertical-align: middle;\n",
       "    }\n",
       "\n",
       "    .dataframe tbody tr th {\n",
       "        vertical-align: top;\n",
       "    }\n",
       "\n",
       "    .dataframe thead th {\n",
       "        text-align: right;\n",
       "    }\n",
       "</style>\n",
       "<table border=\"1\" class=\"dataframe\">\n",
       "  <thead>\n",
       "    <tr style=\"text-align: right;\">\n",
       "      <th></th>\n",
       "      <th>category</th>\n",
       "      <th>currency</th>\n",
       "      <th>country</th>\n",
       "    </tr>\n",
       "  </thead>\n",
       "  <tbody>\n",
       "    <tr>\n",
       "      <th>0</th>\n",
       "      <td>1362</td>\n",
       "      <td>33853</td>\n",
       "      <td>33393</td>\n",
       "    </tr>\n",
       "    <tr>\n",
       "      <th>1</th>\n",
       "      <td>5174</td>\n",
       "      <td>293624</td>\n",
       "      <td>290887</td>\n",
       "    </tr>\n",
       "    <tr>\n",
       "      <th>2</th>\n",
       "      <td>5174</td>\n",
       "      <td>293624</td>\n",
       "      <td>290887</td>\n",
       "    </tr>\n",
       "    <tr>\n",
       "      <th>3</th>\n",
       "      <td>15647</td>\n",
       "      <td>293624</td>\n",
       "      <td>290887</td>\n",
       "    </tr>\n",
       "    <tr>\n",
       "      <th>4</th>\n",
       "      <td>10054</td>\n",
       "      <td>293624</td>\n",
       "      <td>290887</td>\n",
       "    </tr>\n",
       "  </tbody>\n",
       "</table>\n",
       "</div>"
      ],
      "text/plain": [
       "   category  currency  country\n",
       "0      1362     33853    33393\n",
       "1      5174    293624   290887\n",
       "2      5174    293624   290887\n",
       "3     15647    293624   290887\n",
       "4     10054    293624   290887"
      ]
     },
     "execution_count": 10,
     "metadata": {},
     "output_type": "execute_result"
    }
   ],
   "source": [
    "encoded = encoder.fit_transform(data[cat_features])\n",
    "encoded.head()"
   ]
  },
  {
   "cell_type": "code",
   "execution_count": 11,
   "metadata": {},
   "outputs": [
    {
     "data": {
      "text/html": [
       "<div>\n",
       "<style scoped>\n",
       "    .dataframe tbody tr th:only-of-type {\n",
       "        vertical-align: middle;\n",
       "    }\n",
       "\n",
       "    .dataframe tbody tr th {\n",
       "        vertical-align: top;\n",
       "    }\n",
       "\n",
       "    .dataframe thead th {\n",
       "        text-align: right;\n",
       "    }\n",
       "</style>\n",
       "<table border=\"1\" class=\"dataframe\">\n",
       "  <thead>\n",
       "    <tr style=\"text-align: right;\">\n",
       "      <th></th>\n",
       "      <th>hour</th>\n",
       "      <th>day</th>\n",
       "      <th>month</th>\n",
       "      <th>year</th>\n",
       "      <th>goal</th>\n",
       "      <th>outcome</th>\n",
       "      <th>category_count</th>\n",
       "      <th>currency_count</th>\n",
       "      <th>country_count</th>\n",
       "    </tr>\n",
       "  </thead>\n",
       "  <tbody>\n",
       "    <tr>\n",
       "      <th>0</th>\n",
       "      <td>12</td>\n",
       "      <td>11</td>\n",
       "      <td>8</td>\n",
       "      <td>2015</td>\n",
       "      <td>1000.0</td>\n",
       "      <td>0</td>\n",
       "      <td>1362</td>\n",
       "      <td>33853</td>\n",
       "      <td>33393</td>\n",
       "    </tr>\n",
       "    <tr>\n",
       "      <th>1</th>\n",
       "      <td>4</td>\n",
       "      <td>2</td>\n",
       "      <td>9</td>\n",
       "      <td>2017</td>\n",
       "      <td>30000.0</td>\n",
       "      <td>0</td>\n",
       "      <td>5174</td>\n",
       "      <td>293624</td>\n",
       "      <td>290887</td>\n",
       "    </tr>\n",
       "    <tr>\n",
       "      <th>2</th>\n",
       "      <td>0</td>\n",
       "      <td>12</td>\n",
       "      <td>1</td>\n",
       "      <td>2013</td>\n",
       "      <td>45000.0</td>\n",
       "      <td>0</td>\n",
       "      <td>5174</td>\n",
       "      <td>293624</td>\n",
       "      <td>290887</td>\n",
       "    </tr>\n",
       "    <tr>\n",
       "      <th>3</th>\n",
       "      <td>3</td>\n",
       "      <td>17</td>\n",
       "      <td>3</td>\n",
       "      <td>2012</td>\n",
       "      <td>5000.0</td>\n",
       "      <td>0</td>\n",
       "      <td>15647</td>\n",
       "      <td>293624</td>\n",
       "      <td>290887</td>\n",
       "    </tr>\n",
       "    <tr>\n",
       "      <th>4</th>\n",
       "      <td>8</td>\n",
       "      <td>4</td>\n",
       "      <td>7</td>\n",
       "      <td>2015</td>\n",
       "      <td>19500.0</td>\n",
       "      <td>0</td>\n",
       "      <td>10054</td>\n",
       "      <td>293624</td>\n",
       "      <td>290887</td>\n",
       "    </tr>\n",
       "  </tbody>\n",
       "</table>\n",
       "</div>"
      ],
      "text/plain": [
       "   hour  day  month  year     goal  outcome  category_count  currency_count  \\\n",
       "0    12   11      8  2015   1000.0        0            1362           33853   \n",
       "1     4    2      9  2017  30000.0        0            5174          293624   \n",
       "2     0   12      1  2013  45000.0        0            5174          293624   \n",
       "3     3   17      3  2012   5000.0        0           15647          293624   \n",
       "4     8    4      7  2015  19500.0        0           10054          293624   \n",
       "\n",
       "   country_count  \n",
       "0          33393  \n",
       "1         290887  \n",
       "2         290887  \n",
       "3         290887  \n",
       "4         290887  "
      ]
     },
     "execution_count": 11,
     "metadata": {},
     "output_type": "execute_result"
    }
   ],
   "source": [
    "X = num_X.join(encoded.add_suffix('_count'))\n",
    "\n",
    "X.head()"
   ]
  },
  {
   "cell_type": "code",
   "execution_count": 12,
   "metadata": {},
   "outputs": [
    {
     "data": {
      "text/plain": [
       "(37586, 9)"
      ]
     },
     "execution_count": 12,
     "metadata": {},
     "output_type": "execute_result"
    }
   ],
   "source": [
    "valid_fraction = 0.1\n",
    "valid_size = int(len(X) * valid_fraction)\n",
    "\n",
    "train = X[: -2* valid_size]\n",
    "valid = X[-2*valid_size: -valid_size]\n",
    "test = X[-valid_size:]\n",
    "test.shape"
   ]
  },
  {
   "cell_type": "code",
   "execution_count": 13,
   "metadata": {},
   "outputs": [],
   "source": [
    "param = {'num_leaves': 65, 'objective': 'binary', 'metrics': 'auc'}\n",
    "num_rounds = 1000"
   ]
  },
  {
   "cell_type": "code",
   "execution_count": 14,
   "metadata": {},
   "outputs": [],
   "source": [
    "features = train.columns.drop(['outcome'])"
   ]
  },
  {
   "cell_type": "code",
   "execution_count": 15,
   "metadata": {},
   "outputs": [],
   "source": [
    "dtrain = lgb.Dataset(train[features], train['outcome'])\n",
    "dvalid = lgb.Dataset(valid[features], valid['outcome'])"
   ]
  },
  {
   "cell_type": "code",
   "execution_count": 16,
   "metadata": {},
   "outputs": [
    {
     "name": "stdout",
     "output_type": "stream",
     "text": [
      "[LightGBM] [Info] Number of positive: 107340, number of negative: 193350\n",
      "[LightGBM] [Warning] Auto-choosing col-wise multi-threading, the overhead of testing was 0.024843 seconds.\n",
      "You can set `force_col_wise=true` to remove the overhead.\n",
      "[LightGBM] [Info] Total Bins 526\n",
      "[LightGBM] [Info] Number of data points in the train set: 300690, number of used features: 8\n",
      "[LightGBM] [Info] [binary:BoostFromScore]: pavg=0.356979 -> initscore=-0.588501\n",
      "[LightGBM] [Info] Start training from score -0.588501\n",
      "[1]\tvalid_0's auc: 0.692744\n",
      "Training until validation scores don't improve for 5 rounds\n",
      "[2]\tvalid_0's auc: 0.695987\n",
      "[3]\tvalid_0's auc: 0.702229\n",
      "[4]\tvalid_0's auc: 0.704395\n",
      "[5]\tvalid_0's auc: 0.706554\n",
      "[6]\tvalid_0's auc: 0.708559\n",
      "[7]\tvalid_0's auc: 0.711188\n",
      "[8]\tvalid_0's auc: 0.712724\n",
      "[9]\tvalid_0's auc: 0.714062\n",
      "[10]\tvalid_0's auc: 0.715033\n",
      "[11]\tvalid_0's auc: 0.715866\n",
      "[12]\tvalid_0's auc: 0.716983\n",
      "[13]\tvalid_0's auc: 0.717887\n",
      "[14]\tvalid_0's auc: 0.718854\n",
      "[15]\tvalid_0's auc: 0.719398\n",
      "[16]\tvalid_0's auc: 0.72024\n",
      "[17]\tvalid_0's auc: 0.721627\n",
      "[18]\tvalid_0's auc: 0.72202\n",
      "[19]\tvalid_0's auc: 0.722583\n",
      "[20]\tvalid_0's auc: 0.723221\n",
      "[21]\tvalid_0's auc: 0.724029\n",
      "[22]\tvalid_0's auc: 0.725614\n",
      "[23]\tvalid_0's auc: 0.726223\n",
      "[24]\tvalid_0's auc: 0.727785\n",
      "[25]\tvalid_0's auc: 0.728403\n",
      "[26]\tvalid_0's auc: 0.729135\n",
      "[27]\tvalid_0's auc: 0.73037\n",
      "[28]\tvalid_0's auc: 0.730728\n",
      "[29]\tvalid_0's auc: 0.731219\n",
      "[30]\tvalid_0's auc: 0.731988\n",
      "[31]\tvalid_0's auc: 0.732527\n",
      "[32]\tvalid_0's auc: 0.732788\n",
      "[33]\tvalid_0's auc: 0.734282\n",
      "[34]\tvalid_0's auc: 0.734707\n",
      "[35]\tvalid_0's auc: 0.735127\n",
      "[36]\tvalid_0's auc: 0.735289\n",
      "[37]\tvalid_0's auc: 0.736425\n",
      "[38]\tvalid_0's auc: 0.736669\n",
      "[39]\tvalid_0's auc: 0.736807\n",
      "[40]\tvalid_0's auc: 0.73711\n",
      "[41]\tvalid_0's auc: 0.737913\n",
      "[42]\tvalid_0's auc: 0.738058\n",
      "[43]\tvalid_0's auc: 0.738353\n",
      "[44]\tvalid_0's auc: 0.739028\n",
      "[45]\tvalid_0's auc: 0.739195\n",
      "[46]\tvalid_0's auc: 0.739843\n",
      "[47]\tvalid_0's auc: 0.739911\n",
      "[48]\tvalid_0's auc: 0.740098\n",
      "[49]\tvalid_0's auc: 0.740675\n",
      "[50]\tvalid_0's auc: 0.740849\n",
      "[51]\tvalid_0's auc: 0.740989\n",
      "[52]\tvalid_0's auc: 0.741271\n",
      "[53]\tvalid_0's auc: 0.74134\n",
      "[54]\tvalid_0's auc: 0.741826\n",
      "[55]\tvalid_0's auc: 0.741976\n",
      "[56]\tvalid_0's auc: 0.742198\n",
      "[57]\tvalid_0's auc: 0.742358\n",
      "[58]\tvalid_0's auc: 0.742456\n",
      "[59]\tvalid_0's auc: 0.742543\n",
      "[60]\tvalid_0's auc: 0.742571\n",
      "[61]\tvalid_0's auc: 0.742884\n",
      "[62]\tvalid_0's auc: 0.743259\n",
      "[63]\tvalid_0's auc: 0.743358\n",
      "[64]\tvalid_0's auc: 0.743433\n",
      "[65]\tvalid_0's auc: 0.743693\n",
      "[66]\tvalid_0's auc: 0.743728\n",
      "[67]\tvalid_0's auc: 0.744017\n",
      "[68]\tvalid_0's auc: 0.744116\n",
      "[69]\tvalid_0's auc: 0.744235\n",
      "[70]\tvalid_0's auc: 0.744318\n",
      "[71]\tvalid_0's auc: 0.74437\n",
      "[72]\tvalid_0's auc: 0.744473\n",
      "[73]\tvalid_0's auc: 0.744765\n",
      "[74]\tvalid_0's auc: 0.744799\n",
      "[75]\tvalid_0's auc: 0.744834\n",
      "[76]\tvalid_0's auc: 0.744988\n",
      "[77]\tvalid_0's auc: 0.745009\n",
      "[78]\tvalid_0's auc: 0.745023\n",
      "[79]\tvalid_0's auc: 0.74524\n",
      "[80]\tvalid_0's auc: 0.745267\n",
      "[81]\tvalid_0's auc: 0.745333\n",
      "[82]\tvalid_0's auc: 0.745387\n",
      "[83]\tvalid_0's auc: 0.745396\n",
      "[84]\tvalid_0's auc: 0.745415\n",
      "[85]\tvalid_0's auc: 0.745446\n",
      "[86]\tvalid_0's auc: 0.745486\n",
      "[87]\tvalid_0's auc: 0.745521\n",
      "[88]\tvalid_0's auc: 0.745745\n",
      "[89]\tvalid_0's auc: 0.745797\n",
      "[90]\tvalid_0's auc: 0.745804\n",
      "[91]\tvalid_0's auc: 0.745844\n",
      "[92]\tvalid_0's auc: 0.745891\n",
      "[93]\tvalid_0's auc: 0.745926\n",
      "[94]\tvalid_0's auc: 0.74596\n",
      "[95]\tvalid_0's auc: 0.745983\n",
      "[96]\tvalid_0's auc: 0.746024\n",
      "[97]\tvalid_0's auc: 0.746103\n",
      "[98]\tvalid_0's auc: 0.746212\n",
      "[99]\tvalid_0's auc: 0.746187\n",
      "[100]\tvalid_0's auc: 0.746364\n",
      "[101]\tvalid_0's auc: 0.746379\n",
      "[102]\tvalid_0's auc: 0.746413\n",
      "[103]\tvalid_0's auc: 0.746432\n",
      "[104]\tvalid_0's auc: 0.746413\n",
      "[105]\tvalid_0's auc: 0.746411\n",
      "[106]\tvalid_0's auc: 0.74652\n",
      "[107]\tvalid_0's auc: 0.746521\n",
      "[108]\tvalid_0's auc: 0.746543\n",
      "[109]\tvalid_0's auc: 0.746579\n",
      "[110]\tvalid_0's auc: 0.746554\n",
      "[111]\tvalid_0's auc: 0.746618\n",
      "[112]\tvalid_0's auc: 0.746614\n",
      "[113]\tvalid_0's auc: 0.746563\n",
      "[114]\tvalid_0's auc: 0.746596\n",
      "[115]\tvalid_0's auc: 0.746759\n",
      "[116]\tvalid_0's auc: 0.746757\n",
      "[117]\tvalid_0's auc: 0.746766\n",
      "[118]\tvalid_0's auc: 0.746785\n",
      "[119]\tvalid_0's auc: 0.746763\n",
      "[120]\tvalid_0's auc: 0.746788\n",
      "[121]\tvalid_0's auc: 0.746833\n",
      "[122]\tvalid_0's auc: 0.746875\n",
      "[123]\tvalid_0's auc: 0.746901\n",
      "[124]\tvalid_0's auc: 0.746888\n",
      "[125]\tvalid_0's auc: 0.746869\n",
      "[126]\tvalid_0's auc: 0.746914\n",
      "[127]\tvalid_0's auc: 0.746919\n",
      "[128]\tvalid_0's auc: 0.74695\n",
      "[129]\tvalid_0's auc: 0.746949\n",
      "[130]\tvalid_0's auc: 0.746945\n",
      "[131]\tvalid_0's auc: 0.746972\n",
      "[132]\tvalid_0's auc: 0.74697\n",
      "[133]\tvalid_0's auc: 0.747049\n",
      "[134]\tvalid_0's auc: 0.747101\n",
      "[135]\tvalid_0's auc: 0.747097\n",
      "[136]\tvalid_0's auc: 0.747126\n",
      "[137]\tvalid_0's auc: 0.747206\n",
      "[138]\tvalid_0's auc: 0.747197\n",
      "[139]\tvalid_0's auc: 0.747168\n",
      "[140]\tvalid_0's auc: 0.747238\n",
      "[141]\tvalid_0's auc: 0.747278\n",
      "[142]\tvalid_0's auc: 0.747283\n",
      "[143]\tvalid_0's auc: 0.747284\n",
      "[144]\tvalid_0's auc: 0.747292\n",
      "[145]\tvalid_0's auc: 0.747299\n",
      "[146]\tvalid_0's auc: 0.747332\n",
      "[147]\tvalid_0's auc: 0.747333\n",
      "[148]\tvalid_0's auc: 0.747333\n",
      "[149]\tvalid_0's auc: 0.747322\n",
      "[150]\tvalid_0's auc: 0.747304\n",
      "[151]\tvalid_0's auc: 0.747301\n",
      "[152]\tvalid_0's auc: 0.747299\n",
      "[153]\tvalid_0's auc: 0.747361\n",
      "[154]\tvalid_0's auc: 0.747357\n",
      "[155]\tvalid_0's auc: 0.747349\n",
      "[156]\tvalid_0's auc: 0.747304\n",
      "[157]\tvalid_0's auc: 0.747287\n",
      "[158]\tvalid_0's auc: 0.747256\n",
      "Early stopping, best iteration is:\n",
      "[153]\tvalid_0's auc: 0.747361\n"
     ]
    }
   ],
   "source": [
    "model = lgb.train(param, dtrain, num_rounds, valid_sets=[dvalid], early_stopping_rounds=5)"
   ]
  },
  {
   "cell_type": "code",
   "execution_count": 17,
   "metadata": {},
   "outputs": [
    {
     "data": {
      "text/plain": [
       "0.7474402428057598"
      ]
     },
     "execution_count": 17,
     "metadata": {},
     "output_type": "execute_result"
    }
   ],
   "source": [
    "preds = model.predict(test[features])\n",
    "score = metrics.roc_auc_score(test['outcome'], preds)\n",
    "score"
   ]
  },
  {
   "cell_type": "code",
   "execution_count": null,
   "metadata": {},
   "outputs": [],
   "source": []
  },
  {
   "cell_type": "code",
   "execution_count": null,
   "metadata": {},
   "outputs": [],
   "source": []
  }
 ],
 "metadata": {
  "kernelspec": {
   "display_name": "Python 3",
   "language": "python",
   "name": "python3"
  },
  "language_info": {
   "codemirror_mode": {
    "name": "ipython",
    "version": 3
   },
   "file_extension": ".py",
   "mimetype": "text/x-python",
   "name": "python",
   "nbconvert_exporter": "python",
   "pygments_lexer": "ipython3",
   "version": "3.7.6"
  }
 },
 "nbformat": 4,
 "nbformat_minor": 4
}
