{
 "cells": [
  {
   "cell_type": "code",
   "execution_count": 1,
   "metadata": {},
   "outputs": [],
   "source": [
    "import numpy as np\n",
    "import pandas as pd\n",
    "\n",
    "import lightgbm as lgb\n",
    "import category_encoders as ce\n",
    "from sklearn import metrics"
   ]
  },
  {
   "cell_type": "code",
   "execution_count": 2,
   "metadata": {},
   "outputs": [
    {
     "data": {
      "text/html": [
       "<div>\n",
       "<style scoped>\n",
       "    .dataframe tbody tr th:only-of-type {\n",
       "        vertical-align: middle;\n",
       "    }\n",
       "\n",
       "    .dataframe tbody tr th {\n",
       "        vertical-align: top;\n",
       "    }\n",
       "\n",
       "    .dataframe thead th {\n",
       "        text-align: right;\n",
       "    }\n",
       "</style>\n",
       "<table border=\"1\" class=\"dataframe\">\n",
       "  <thead>\n",
       "    <tr style=\"text-align: right;\">\n",
       "      <th></th>\n",
       "      <th>ID</th>\n",
       "      <th>name</th>\n",
       "      <th>category</th>\n",
       "      <th>main_category</th>\n",
       "      <th>currency</th>\n",
       "      <th>deadline</th>\n",
       "      <th>goal</th>\n",
       "      <th>launched</th>\n",
       "      <th>pledged</th>\n",
       "      <th>state</th>\n",
       "      <th>backers</th>\n",
       "      <th>country</th>\n",
       "      <th>usd pledged</th>\n",
       "      <th>usd_pledged_real</th>\n",
       "      <th>usd_goal_real</th>\n",
       "    </tr>\n",
       "  </thead>\n",
       "  <tbody>\n",
       "    <tr>\n",
       "      <th>0</th>\n",
       "      <td>1000002330</td>\n",
       "      <td>The Songs of Adelaide &amp; Abullah</td>\n",
       "      <td>Poetry</td>\n",
       "      <td>Publishing</td>\n",
       "      <td>GBP</td>\n",
       "      <td>2015-10-09</td>\n",
       "      <td>1000.0</td>\n",
       "      <td>2015-08-11 12:12:28</td>\n",
       "      <td>0.0</td>\n",
       "      <td>failed</td>\n",
       "      <td>0</td>\n",
       "      <td>GB</td>\n",
       "      <td>0.0</td>\n",
       "      <td>0.0</td>\n",
       "      <td>1533.95</td>\n",
       "    </tr>\n",
       "    <tr>\n",
       "      <th>1</th>\n",
       "      <td>1000003930</td>\n",
       "      <td>Greeting From Earth: ZGAC Arts Capsule For ET</td>\n",
       "      <td>Narrative Film</td>\n",
       "      <td>Film &amp; Video</td>\n",
       "      <td>USD</td>\n",
       "      <td>2017-11-01</td>\n",
       "      <td>30000.0</td>\n",
       "      <td>2017-09-02 04:43:57</td>\n",
       "      <td>2421.0</td>\n",
       "      <td>failed</td>\n",
       "      <td>15</td>\n",
       "      <td>US</td>\n",
       "      <td>100.0</td>\n",
       "      <td>2421.0</td>\n",
       "      <td>30000.00</td>\n",
       "    </tr>\n",
       "  </tbody>\n",
       "</table>\n",
       "</div>"
      ],
      "text/plain": [
       "           ID                                           name        category  \\\n",
       "0  1000002330                The Songs of Adelaide & Abullah          Poetry   \n",
       "1  1000003930  Greeting From Earth: ZGAC Arts Capsule For ET  Narrative Film   \n",
       "\n",
       "  main_category currency    deadline     goal            launched  pledged  \\\n",
       "0    Publishing      GBP  2015-10-09   1000.0 2015-08-11 12:12:28      0.0   \n",
       "1  Film & Video      USD  2017-11-01  30000.0 2017-09-02 04:43:57   2421.0   \n",
       "\n",
       "    state  backers country  usd pledged  usd_pledged_real  usd_goal_real  \n",
       "0  failed        0      GB          0.0               0.0        1533.95  \n",
       "1  failed       15      US        100.0            2421.0       30000.00  "
      ]
     },
     "execution_count": 2,
     "metadata": {},
     "output_type": "execute_result"
    }
   ],
   "source": [
    "data = pd.read_csv('kickstarter.csv', parse_dates=['launched'])\n",
    "data.head(2)"
   ]
  },
  {
   "cell_type": "code",
   "execution_count": 3,
   "metadata": {},
   "outputs": [],
   "source": [
    "data = data.query(\"state != 'live'\")"
   ]
  },
  {
   "cell_type": "code",
   "execution_count": 4,
   "metadata": {},
   "outputs": [
    {
     "data": {
      "text/html": [
       "<div>\n",
       "<style scoped>\n",
       "    .dataframe tbody tr th:only-of-type {\n",
       "        vertical-align: middle;\n",
       "    }\n",
       "\n",
       "    .dataframe tbody tr th {\n",
       "        vertical-align: top;\n",
       "    }\n",
       "\n",
       "    .dataframe thead th {\n",
       "        text-align: right;\n",
       "    }\n",
       "</style>\n",
       "<table border=\"1\" class=\"dataframe\">\n",
       "  <thead>\n",
       "    <tr style=\"text-align: right;\">\n",
       "      <th></th>\n",
       "      <th>ID</th>\n",
       "      <th>name</th>\n",
       "      <th>category</th>\n",
       "      <th>main_category</th>\n",
       "      <th>currency</th>\n",
       "      <th>deadline</th>\n",
       "      <th>goal</th>\n",
       "      <th>launched</th>\n",
       "      <th>pledged</th>\n",
       "      <th>state</th>\n",
       "      <th>backers</th>\n",
       "      <th>country</th>\n",
       "      <th>usd pledged</th>\n",
       "      <th>usd_pledged_real</th>\n",
       "      <th>usd_goal_real</th>\n",
       "      <th>outcome</th>\n",
       "      <th>hour</th>\n",
       "      <th>day</th>\n",
       "      <th>month</th>\n",
       "      <th>year</th>\n",
       "    </tr>\n",
       "  </thead>\n",
       "  <tbody>\n",
       "    <tr>\n",
       "      <th>0</th>\n",
       "      <td>1000002330</td>\n",
       "      <td>The Songs of Adelaide &amp; Abullah</td>\n",
       "      <td>Poetry</td>\n",
       "      <td>Publishing</td>\n",
       "      <td>GBP</td>\n",
       "      <td>2015-10-09</td>\n",
       "      <td>1000.0</td>\n",
       "      <td>2015-08-11 12:12:28</td>\n",
       "      <td>0.0</td>\n",
       "      <td>failed</td>\n",
       "      <td>0</td>\n",
       "      <td>GB</td>\n",
       "      <td>0.0</td>\n",
       "      <td>0.0</td>\n",
       "      <td>1533.95</td>\n",
       "      <td>0</td>\n",
       "      <td>12</td>\n",
       "      <td>11</td>\n",
       "      <td>8</td>\n",
       "      <td>2015</td>\n",
       "    </tr>\n",
       "    <tr>\n",
       "      <th>1</th>\n",
       "      <td>1000003930</td>\n",
       "      <td>Greeting From Earth: ZGAC Arts Capsule For ET</td>\n",
       "      <td>Narrative Film</td>\n",
       "      <td>Film &amp; Video</td>\n",
       "      <td>USD</td>\n",
       "      <td>2017-11-01</td>\n",
       "      <td>30000.0</td>\n",
       "      <td>2017-09-02 04:43:57</td>\n",
       "      <td>2421.0</td>\n",
       "      <td>failed</td>\n",
       "      <td>15</td>\n",
       "      <td>US</td>\n",
       "      <td>100.0</td>\n",
       "      <td>2421.0</td>\n",
       "      <td>30000.00</td>\n",
       "      <td>0</td>\n",
       "      <td>4</td>\n",
       "      <td>2</td>\n",
       "      <td>9</td>\n",
       "      <td>2017</td>\n",
       "    </tr>\n",
       "  </tbody>\n",
       "</table>\n",
       "</div>"
      ],
      "text/plain": [
       "           ID                                           name        category  \\\n",
       "0  1000002330                The Songs of Adelaide & Abullah          Poetry   \n",
       "1  1000003930  Greeting From Earth: ZGAC Arts Capsule For ET  Narrative Film   \n",
       "\n",
       "  main_category currency    deadline     goal            launched  pledged  \\\n",
       "0    Publishing      GBP  2015-10-09   1000.0 2015-08-11 12:12:28      0.0   \n",
       "1  Film & Video      USD  2017-11-01  30000.0 2017-09-02 04:43:57   2421.0   \n",
       "\n",
       "    state  backers country  usd pledged  usd_pledged_real  usd_goal_real  \\\n",
       "0  failed        0      GB          0.0               0.0        1533.95   \n",
       "1  failed       15      US        100.0            2421.0       30000.00   \n",
       "\n",
       "   outcome  hour  day  month  year  \n",
       "0        0    12   11      8  2015  \n",
       "1        0     4    2      9  2017  "
      ]
     },
     "execution_count": 4,
     "metadata": {},
     "output_type": "execute_result"
    }
   ],
   "source": [
    "data = data.assign(outcome=(data.state == 'successful').astype(int))\n",
    "data = data.assign(hour=data.launched.dt.hour,\n",
    "                  day=data.launched.dt.day,\n",
    "                  month=data.launched.dt.month,\n",
    "                  year=data.launched.dt.year)\n",
    "data.head(2)"
   ]
  },
  {
   "cell_type": "code",
   "execution_count": 5,
   "metadata": {},
   "outputs": [
    {
     "data": {
      "text/html": [
       "<div>\n",
       "<style scoped>\n",
       "    .dataframe tbody tr th:only-of-type {\n",
       "        vertical-align: middle;\n",
       "    }\n",
       "\n",
       "    .dataframe tbody tr th {\n",
       "        vertical-align: top;\n",
       "    }\n",
       "\n",
       "    .dataframe thead th {\n",
       "        text-align: right;\n",
       "    }\n",
       "</style>\n",
       "<table border=\"1\" class=\"dataframe\">\n",
       "  <thead>\n",
       "    <tr style=\"text-align: right;\">\n",
       "      <th></th>\n",
       "      <th>hour</th>\n",
       "      <th>day</th>\n",
       "      <th>month</th>\n",
       "      <th>year</th>\n",
       "      <th>goal</th>\n",
       "      <th>outcome</th>\n",
       "    </tr>\n",
       "  </thead>\n",
       "  <tbody>\n",
       "    <tr>\n",
       "      <th>0</th>\n",
       "      <td>12</td>\n",
       "      <td>11</td>\n",
       "      <td>8</td>\n",
       "      <td>2015</td>\n",
       "      <td>1000.0</td>\n",
       "      <td>0</td>\n",
       "    </tr>\n",
       "    <tr>\n",
       "      <th>1</th>\n",
       "      <td>4</td>\n",
       "      <td>2</td>\n",
       "      <td>9</td>\n",
       "      <td>2017</td>\n",
       "      <td>30000.0</td>\n",
       "      <td>0</td>\n",
       "    </tr>\n",
       "    <tr>\n",
       "      <th>2</th>\n",
       "      <td>0</td>\n",
       "      <td>12</td>\n",
       "      <td>1</td>\n",
       "      <td>2013</td>\n",
       "      <td>45000.0</td>\n",
       "      <td>0</td>\n",
       "    </tr>\n",
       "  </tbody>\n",
       "</table>\n",
       "</div>"
      ],
      "text/plain": [
       "   hour  day  month  year     goal  outcome\n",
       "0    12   11      8  2015   1000.0        0\n",
       "1     4    2      9  2017  30000.0        0\n",
       "2     0   12      1  2013  45000.0        0"
      ]
     },
     "execution_count": 5,
     "metadata": {},
     "output_type": "execute_result"
    }
   ],
   "source": [
    "num_X = data[['hour', 'day', 'month', 'year', 'goal', 'outcome']]\n",
    "num_X.head(3)"
   ]
  },
  {
   "cell_type": "code",
   "execution_count": 6,
   "metadata": {},
   "outputs": [],
   "source": [
    "cat_features = ['category', 'currency', 'country']"
   ]
  },
  {
   "cell_type": "code",
   "execution_count": 7,
   "metadata": {},
   "outputs": [
    {
     "data": {
      "text/html": [
       "<div>\n",
       "<style scoped>\n",
       "    .dataframe tbody tr th:only-of-type {\n",
       "        vertical-align: middle;\n",
       "    }\n",
       "\n",
       "    .dataframe tbody tr th {\n",
       "        vertical-align: top;\n",
       "    }\n",
       "\n",
       "    .dataframe thead th {\n",
       "        text-align: right;\n",
       "    }\n",
       "</style>\n",
       "<table border=\"1\" class=\"dataframe\">\n",
       "  <thead>\n",
       "    <tr style=\"text-align: right;\">\n",
       "      <th></th>\n",
       "      <th>hour</th>\n",
       "      <th>day</th>\n",
       "      <th>month</th>\n",
       "      <th>year</th>\n",
       "      <th>goal</th>\n",
       "      <th>outcome</th>\n",
       "      <th>category</th>\n",
       "      <th>currency</th>\n",
       "      <th>country</th>\n",
       "    </tr>\n",
       "  </thead>\n",
       "  <tbody>\n",
       "    <tr>\n",
       "      <th>0</th>\n",
       "      <td>12</td>\n",
       "      <td>11</td>\n",
       "      <td>8</td>\n",
       "      <td>2015</td>\n",
       "      <td>1000.0</td>\n",
       "      <td>0</td>\n",
       "      <td>Poetry</td>\n",
       "      <td>GBP</td>\n",
       "      <td>GB</td>\n",
       "    </tr>\n",
       "    <tr>\n",
       "      <th>1</th>\n",
       "      <td>4</td>\n",
       "      <td>2</td>\n",
       "      <td>9</td>\n",
       "      <td>2017</td>\n",
       "      <td>30000.0</td>\n",
       "      <td>0</td>\n",
       "      <td>Narrative Film</td>\n",
       "      <td>USD</td>\n",
       "      <td>US</td>\n",
       "    </tr>\n",
       "  </tbody>\n",
       "</table>\n",
       "</div>"
      ],
      "text/plain": [
       "   hour  day  month  year     goal  outcome        category currency country\n",
       "0    12   11      8  2015   1000.0        0          Poetry      GBP      GB\n",
       "1     4    2      9  2017  30000.0        0  Narrative Film      USD      US"
      ]
     },
     "execution_count": 7,
     "metadata": {},
     "output_type": "execute_result"
    }
   ],
   "source": [
    "X = num_X.join(data[cat_features])\n",
    "X.head(2)"
   ]
  },
  {
   "cell_type": "code",
   "execution_count": 8,
   "metadata": {},
   "outputs": [
    {
     "data": {
      "text/plain": [
       "(300690, 9)"
      ]
     },
     "execution_count": 8,
     "metadata": {},
     "output_type": "execute_result"
    }
   ],
   "source": [
    "valid_fraction = 0.1\n",
    "valid_size = int(len(X)*valid_fraction)\n",
    "\n",
    "train = X[: -2 * valid_size]\n",
    "valid = X[-2 * valid_size : -valid_size]\n",
    "test = X[-valid_size:]\n",
    "train.shape"
   ]
  },
  {
   "cell_type": "code",
   "execution_count": 9,
   "metadata": {},
   "outputs": [],
   "source": [
    "encoder = ce.CatBoostEncoder(cols=cat_features)"
   ]
  },
  {
   "cell_type": "code",
   "execution_count": 10,
   "metadata": {},
   "outputs": [
    {
     "data": {
      "text/plain": [
       "CatBoostEncoder(a=1, cols=['category', 'currency', 'country'],\n",
       "                drop_invariant=False, handle_missing='value',\n",
       "                handle_unknown='value', random_state=None, return_df=True,\n",
       "                sigma=None, verbose=0)"
      ]
     },
     "execution_count": 10,
     "metadata": {},
     "output_type": "execute_result"
    }
   ],
   "source": [
    "encoder.fit(train[cat_features], train['outcome'])"
   ]
  },
  {
   "cell_type": "code",
   "execution_count": 11,
   "metadata": {},
   "outputs": [
    {
     "data": {
      "text/html": [
       "<div>\n",
       "<style scoped>\n",
       "    .dataframe tbody tr th:only-of-type {\n",
       "        vertical-align: middle;\n",
       "    }\n",
       "\n",
       "    .dataframe tbody tr th {\n",
       "        vertical-align: top;\n",
       "    }\n",
       "\n",
       "    .dataframe thead th {\n",
       "        text-align: right;\n",
       "    }\n",
       "</style>\n",
       "<table border=\"1\" class=\"dataframe\">\n",
       "  <thead>\n",
       "    <tr style=\"text-align: right;\">\n",
       "      <th></th>\n",
       "      <th>hour</th>\n",
       "      <th>day</th>\n",
       "      <th>month</th>\n",
       "      <th>year</th>\n",
       "      <th>goal</th>\n",
       "      <th>outcome</th>\n",
       "      <th>category</th>\n",
       "      <th>currency</th>\n",
       "      <th>country</th>\n",
       "      <th>category_catboost</th>\n",
       "      <th>currency_catboost</th>\n",
       "      <th>country_catboost</th>\n",
       "    </tr>\n",
       "  </thead>\n",
       "  <tbody>\n",
       "    <tr>\n",
       "      <th>0</th>\n",
       "      <td>12</td>\n",
       "      <td>11</td>\n",
       "      <td>8</td>\n",
       "      <td>2015</td>\n",
       "      <td>1000.0</td>\n",
       "      <td>0</td>\n",
       "      <td>Poetry</td>\n",
       "      <td>GBP</td>\n",
       "      <td>GB</td>\n",
       "      <td>0.360187</td>\n",
       "      <td>0.357122</td>\n",
       "      <td>0.361636</td>\n",
       "    </tr>\n",
       "    <tr>\n",
       "      <th>1</th>\n",
       "      <td>4</td>\n",
       "      <td>2</td>\n",
       "      <td>9</td>\n",
       "      <td>2017</td>\n",
       "      <td>30000.0</td>\n",
       "      <td>0</td>\n",
       "      <td>Narrative Film</td>\n",
       "      <td>USD</td>\n",
       "      <td>US</td>\n",
       "      <td>0.384609</td>\n",
       "      <td>0.373392</td>\n",
       "      <td>0.376631</td>\n",
       "    </tr>\n",
       "  </tbody>\n",
       "</table>\n",
       "</div>"
      ],
      "text/plain": [
       "   hour  day  month  year     goal  outcome        category currency country  \\\n",
       "0    12   11      8  2015   1000.0        0          Poetry      GBP      GB   \n",
       "1     4    2      9  2017  30000.0        0  Narrative Film      USD      US   \n",
       "\n",
       "   category_catboost  currency_catboost  country_catboost  \n",
       "0           0.360187           0.357122          0.361636  \n",
       "1           0.384609           0.373392          0.376631  "
      ]
     },
     "execution_count": 11,
     "metadata": {},
     "output_type": "execute_result"
    }
   ],
   "source": [
    "encoded_tr = train.join(encoder.transform(train[cat_features]).add_suffix('_catboost'))\n",
    "encoded_va = valid.join(encoder.transform(valid[cat_features]).add_suffix('_catboost'))\n",
    "encoded_te = test.join(encoder.transform(test[cat_features]).add_suffix('_catboost'))\n",
    "\n",
    "encoded_tr.head(2)"
   ]
  },
  {
   "cell_type": "code",
   "execution_count": 12,
   "metadata": {},
   "outputs": [
    {
     "data": {
      "text/plain": [
       "Index(['hour', 'day', 'month', 'year', 'goal', 'category_catboost',\n",
       "       'currency_catboost', 'country_catboost'],\n",
       "      dtype='object')"
      ]
     },
     "execution_count": 12,
     "metadata": {},
     "output_type": "execute_result"
    }
   ],
   "source": [
    "features = encoded_tr.columns.drop(['outcome', 'category', 'currency', 'country'])\n",
    "features"
   ]
  },
  {
   "cell_type": "code",
   "execution_count": 13,
   "metadata": {},
   "outputs": [],
   "source": [
    "param = {'num_leaves': 65, 'objective': 'binary', 'metric': 'auc'}\n",
    "num_rounds = 1000"
   ]
  },
  {
   "cell_type": "code",
   "execution_count": 14,
   "metadata": {},
   "outputs": [],
   "source": [
    "dtrain = lgb.Dataset(encoded_tr[features], encoded_tr['outcome'])\n",
    "dvalid = lgb.Dataset(encoded_va[features], encoded_va['outcome'])"
   ]
  },
  {
   "cell_type": "code",
   "execution_count": 15,
   "metadata": {},
   "outputs": [
    {
     "name": "stdout",
     "output_type": "stream",
     "text": [
      "[LightGBM] [Info] Number of positive: 107340, number of negative: 193350\n",
      "[LightGBM] [Warning] Auto-choosing col-wise multi-threading, the overhead of testing was 0.027761 seconds.\n",
      "You can set `force_col_wise=true` to remove the overhead.\n",
      "[LightGBM] [Info] Total Bins 531\n",
      "[LightGBM] [Info] Number of data points in the train set: 300690, number of used features: 8\n",
      "[LightGBM] [Info] [binary:BoostFromScore]: pavg=0.356979 -> initscore=-0.588501\n",
      "[LightGBM] [Info] Start training from score -0.588501\n",
      "[1]\tvalid_0's auc: 0.723307\n",
      "Training until validation scores don't improve for 5 rounds\n",
      "[2]\tvalid_0's auc: 0.724934\n",
      "[3]\tvalid_0's auc: 0.726201\n",
      "[4]\tvalid_0's auc: 0.727114\n",
      "[5]\tvalid_0's auc: 0.729399\n",
      "[6]\tvalid_0's auc: 0.730438\n",
      "[7]\tvalid_0's auc: 0.73091\n",
      "[8]\tvalid_0's auc: 0.731443\n",
      "[9]\tvalid_0's auc: 0.731882\n",
      "[10]\tvalid_0's auc: 0.732392\n",
      "[11]\tvalid_0's auc: 0.732735\n",
      "[12]\tvalid_0's auc: 0.733353\n",
      "[13]\tvalid_0's auc: 0.733801\n",
      "[14]\tvalid_0's auc: 0.733984\n",
      "[15]\tvalid_0's auc: 0.734442\n",
      "[16]\tvalid_0's auc: 0.73488\n",
      "[17]\tvalid_0's auc: 0.735326\n",
      "[18]\tvalid_0's auc: 0.735665\n",
      "[19]\tvalid_0's auc: 0.736064\n",
      "[20]\tvalid_0's auc: 0.736432\n",
      "[21]\tvalid_0's auc: 0.736898\n",
      "[22]\tvalid_0's auc: 0.737235\n",
      "[23]\tvalid_0's auc: 0.737455\n",
      "[24]\tvalid_0's auc: 0.737801\n",
      "[25]\tvalid_0's auc: 0.738011\n",
      "[26]\tvalid_0's auc: 0.7383\n",
      "[27]\tvalid_0's auc: 0.738579\n",
      "[28]\tvalid_0's auc: 0.738833\n",
      "[29]\tvalid_0's auc: 0.739137\n",
      "[30]\tvalid_0's auc: 0.739275\n",
      "[31]\tvalid_0's auc: 0.739454\n",
      "[32]\tvalid_0's auc: 0.739949\n",
      "[33]\tvalid_0's auc: 0.74031\n",
      "[34]\tvalid_0's auc: 0.740618\n",
      "[35]\tvalid_0's auc: 0.740832\n",
      "[36]\tvalid_0's auc: 0.741071\n",
      "[37]\tvalid_0's auc: 0.741226\n",
      "[38]\tvalid_0's auc: 0.741326\n",
      "[39]\tvalid_0's auc: 0.741644\n",
      "[40]\tvalid_0's auc: 0.741825\n",
      "[41]\tvalid_0's auc: 0.742102\n",
      "[42]\tvalid_0's auc: 0.742215\n",
      "[43]\tvalid_0's auc: 0.742325\n",
      "[44]\tvalid_0's auc: 0.742607\n",
      "[45]\tvalid_0's auc: 0.742798\n",
      "[46]\tvalid_0's auc: 0.742908\n",
      "[47]\tvalid_0's auc: 0.74299\n",
      "[48]\tvalid_0's auc: 0.743184\n",
      "[49]\tvalid_0's auc: 0.743286\n",
      "[50]\tvalid_0's auc: 0.743539\n",
      "[51]\tvalid_0's auc: 0.743688\n",
      "[52]\tvalid_0's auc: 0.743799\n",
      "[53]\tvalid_0's auc: 0.743925\n",
      "[54]\tvalid_0's auc: 0.744054\n",
      "[55]\tvalid_0's auc: 0.744155\n",
      "[56]\tvalid_0's auc: 0.744215\n",
      "[57]\tvalid_0's auc: 0.744506\n",
      "[58]\tvalid_0's auc: 0.744546\n",
      "[59]\tvalid_0's auc: 0.744627\n",
      "[60]\tvalid_0's auc: 0.744697\n",
      "[61]\tvalid_0's auc: 0.744704\n",
      "[62]\tvalid_0's auc: 0.744776\n",
      "[63]\tvalid_0's auc: 0.744875\n",
      "[64]\tvalid_0's auc: 0.745043\n",
      "[65]\tvalid_0's auc: 0.745183\n",
      "[66]\tvalid_0's auc: 0.745214\n",
      "[67]\tvalid_0's auc: 0.745244\n",
      "[68]\tvalid_0's auc: 0.745337\n",
      "[69]\tvalid_0's auc: 0.745387\n",
      "[70]\tvalid_0's auc: 0.745395\n",
      "[71]\tvalid_0's auc: 0.74542\n",
      "[72]\tvalid_0's auc: 0.745454\n",
      "[73]\tvalid_0's auc: 0.745428\n",
      "[74]\tvalid_0's auc: 0.745444\n",
      "[75]\tvalid_0's auc: 0.7454\n",
      "[76]\tvalid_0's auc: 0.745452\n",
      "[77]\tvalid_0's auc: 0.745496\n",
      "[78]\tvalid_0's auc: 0.745529\n",
      "[79]\tvalid_0's auc: 0.745614\n",
      "[80]\tvalid_0's auc: 0.745634\n",
      "[81]\tvalid_0's auc: 0.745674\n",
      "[82]\tvalid_0's auc: 0.745839\n",
      "[83]\tvalid_0's auc: 0.745855\n",
      "[84]\tvalid_0's auc: 0.745861\n",
      "[85]\tvalid_0's auc: 0.745933\n",
      "[86]\tvalid_0's auc: 0.745936\n",
      "[87]\tvalid_0's auc: 0.745968\n",
      "[88]\tvalid_0's auc: 0.745987\n",
      "[89]\tvalid_0's auc: 0.745998\n",
      "[90]\tvalid_0's auc: 0.746014\n",
      "[91]\tvalid_0's auc: 0.74607\n",
      "[92]\tvalid_0's auc: 0.746221\n",
      "[93]\tvalid_0's auc: 0.746252\n",
      "[94]\tvalid_0's auc: 0.746261\n",
      "[95]\tvalid_0's auc: 0.74627\n",
      "[96]\tvalid_0's auc: 0.746283\n",
      "[97]\tvalid_0's auc: 0.74628\n",
      "[98]\tvalid_0's auc: 0.746302\n",
      "[99]\tvalid_0's auc: 0.746413\n",
      "[100]\tvalid_0's auc: 0.746614\n",
      "[101]\tvalid_0's auc: 0.746636\n",
      "[102]\tvalid_0's auc: 0.746614\n",
      "[103]\tvalid_0's auc: 0.746585\n",
      "[104]\tvalid_0's auc: 0.74658\n",
      "[105]\tvalid_0's auc: 0.746547\n",
      "[106]\tvalid_0's auc: 0.746627\n",
      "Early stopping, best iteration is:\n",
      "[101]\tvalid_0's auc: 0.746636\n"
     ]
    }
   ],
   "source": [
    "model = lgb.train(param, dtrain, num_rounds, valid_sets=[dvalid], early_stopping_rounds=5)"
   ]
  },
  {
   "cell_type": "code",
   "execution_count": 16,
   "metadata": {},
   "outputs": [
    {
     "data": {
      "text/plain": [
       "0.7460185532865766"
      ]
     },
     "execution_count": 16,
     "metadata": {},
     "output_type": "execute_result"
    }
   ],
   "source": [
    "preds = model.predict(encoded_te[features])\n",
    "score = metrics.roc_auc_score(encoded_te['outcome'], preds)\n",
    "score "
   ]
  },
  {
   "cell_type": "code",
   "execution_count": null,
   "metadata": {},
   "outputs": [],
   "source": []
  },
  {
   "cell_type": "code",
   "execution_count": null,
   "metadata": {},
   "outputs": [],
   "source": []
  },
  {
   "cell_type": "code",
   "execution_count": null,
   "metadata": {},
   "outputs": [],
   "source": []
  },
  {
   "cell_type": "code",
   "execution_count": null,
   "metadata": {},
   "outputs": [],
   "source": []
  },
  {
   "cell_type": "code",
   "execution_count": null,
   "metadata": {},
   "outputs": [],
   "source": []
  }
 ],
 "metadata": {
  "kernelspec": {
   "display_name": "Python 3",
   "language": "python",
   "name": "python3"
  },
  "language_info": {
   "codemirror_mode": {
    "name": "ipython",
    "version": 3
   },
   "file_extension": ".py",
   "mimetype": "text/x-python",
   "name": "python",
   "nbconvert_exporter": "python",
   "pygments_lexer": "ipython3",
   "version": "3.7.6"
  }
 },
 "nbformat": 4,
 "nbformat_minor": 4
}
