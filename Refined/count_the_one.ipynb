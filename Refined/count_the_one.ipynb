{
 "cells": [
  {
   "cell_type": "code",
   "execution_count": 1,
   "metadata": {},
   "outputs": [],
   "source": [
    "import pandas as pd\n",
    "import numpy as np\n",
    "\n",
    "import category_encoders as ce\n",
    "import lightgbm as lgb\n",
    "from sklearn import metrics"
   ]
  },
  {
   "cell_type": "code",
   "execution_count": 73,
   "metadata": {},
   "outputs": [],
   "source": [
    "data = pd.read_csv('kickstarter.csv', parse_dates=['launched'])"
   ]
  },
  {
   "cell_type": "code",
   "execution_count": 3,
   "metadata": {},
   "outputs": [
    {
     "data": {
      "text/html": [
       "<div>\n",
       "<style scoped>\n",
       "    .dataframe tbody tr th:only-of-type {\n",
       "        vertical-align: middle;\n",
       "    }\n",
       "\n",
       "    .dataframe tbody tr th {\n",
       "        vertical-align: top;\n",
       "    }\n",
       "\n",
       "    .dataframe thead th {\n",
       "        text-align: right;\n",
       "    }\n",
       "</style>\n",
       "<table border=\"1\" class=\"dataframe\">\n",
       "  <thead>\n",
       "    <tr style=\"text-align: right;\">\n",
       "      <th></th>\n",
       "      <th>ID</th>\n",
       "      <th>name</th>\n",
       "      <th>category</th>\n",
       "      <th>main_category</th>\n",
       "      <th>currency</th>\n",
       "      <th>deadline</th>\n",
       "      <th>goal</th>\n",
       "      <th>launched</th>\n",
       "      <th>pledged</th>\n",
       "      <th>state</th>\n",
       "      <th>backers</th>\n",
       "      <th>country</th>\n",
       "      <th>usd pledged</th>\n",
       "      <th>usd_pledged_real</th>\n",
       "      <th>usd_goal_real</th>\n",
       "      <th>outcome</th>\n",
       "    </tr>\n",
       "  </thead>\n",
       "  <tbody>\n",
       "    <tr>\n",
       "      <th>0</th>\n",
       "      <td>1000002330</td>\n",
       "      <td>The Songs of Adelaide &amp; Abullah</td>\n",
       "      <td>Poetry</td>\n",
       "      <td>Publishing</td>\n",
       "      <td>GBP</td>\n",
       "      <td>2015-10-09</td>\n",
       "      <td>1000.0</td>\n",
       "      <td>2015-08-11 12:12:28</td>\n",
       "      <td>0.0</td>\n",
       "      <td>failed</td>\n",
       "      <td>0</td>\n",
       "      <td>GB</td>\n",
       "      <td>0.0</td>\n",
       "      <td>0.0</td>\n",
       "      <td>1533.95</td>\n",
       "      <td>0</td>\n",
       "    </tr>\n",
       "    <tr>\n",
       "      <th>1</th>\n",
       "      <td>1000003930</td>\n",
       "      <td>Greeting From Earth: ZGAC Arts Capsule For ET</td>\n",
       "      <td>Narrative Film</td>\n",
       "      <td>Film &amp; Video</td>\n",
       "      <td>USD</td>\n",
       "      <td>2017-11-01</td>\n",
       "      <td>30000.0</td>\n",
       "      <td>2017-09-02 04:43:57</td>\n",
       "      <td>2421.0</td>\n",
       "      <td>failed</td>\n",
       "      <td>15</td>\n",
       "      <td>US</td>\n",
       "      <td>100.0</td>\n",
       "      <td>2421.0</td>\n",
       "      <td>30000.00</td>\n",
       "      <td>0</td>\n",
       "    </tr>\n",
       "  </tbody>\n",
       "</table>\n",
       "</div>"
      ],
      "text/plain": [
       "           ID                                           name        category  \\\n",
       "0  1000002330                The Songs of Adelaide & Abullah          Poetry   \n",
       "1  1000003930  Greeting From Earth: ZGAC Arts Capsule For ET  Narrative Film   \n",
       "\n",
       "  main_category currency    deadline     goal            launched  pledged  \\\n",
       "0    Publishing      GBP  2015-10-09   1000.0 2015-08-11 12:12:28      0.0   \n",
       "1  Film & Video      USD  2017-11-01  30000.0 2017-09-02 04:43:57   2421.0   \n",
       "\n",
       "    state  backers country  usd pledged  usd_pledged_real  usd_goal_real  \\\n",
       "0  failed        0      GB          0.0               0.0        1533.95   \n",
       "1  failed       15      US        100.0            2421.0       30000.00   \n",
       "\n",
       "   outcome  \n",
       "0        0  \n",
       "1        0  "
      ]
     },
     "execution_count": 3,
     "metadata": {},
     "output_type": "execute_result"
    }
   ],
   "source": [
    "data = data.assign(outcome=(data.state == 'successful').astype(int))\n",
    "data.head(2)"
   ]
  },
  {
   "cell_type": "code",
   "execution_count": 4,
   "metadata": {},
   "outputs": [
    {
     "data": {
      "text/plain": [
       "(378661, 16)"
      ]
     },
     "execution_count": 4,
     "metadata": {},
     "output_type": "execute_result"
    }
   ],
   "source": [
    "data.shape"
   ]
  },
  {
   "cell_type": "code",
   "execution_count": 5,
   "metadata": {},
   "outputs": [
    {
     "data": {
      "text/plain": [
       "(375862, 16)"
      ]
     },
     "execution_count": 5,
     "metadata": {},
     "output_type": "execute_result"
    }
   ],
   "source": [
    "data = data.query(\"state != 'live'\")\n",
    "data.shape"
   ]
  },
  {
   "cell_type": "code",
   "execution_count": 6,
   "metadata": {},
   "outputs": [
    {
     "data": {
      "text/plain": [
       "(375862, 20)"
      ]
     },
     "execution_count": 6,
     "metadata": {},
     "output_type": "execute_result"
    }
   ],
   "source": [
    "data = data.assign(hour=data.launched.dt.hour,\n",
    "                  day=data.launched.dt.day,\n",
    "                  month=data.launched.dt.month,\n",
    "                  year=data.launched.dt.year)\n",
    "data.shape"
   ]
  },
  {
   "cell_type": "code",
   "execution_count": 7,
   "metadata": {},
   "outputs": [],
   "source": [
    "cat_features = ['category', 'currency', 'country']"
   ]
  },
  {
   "cell_type": "code",
   "execution_count": 8,
   "metadata": {},
   "outputs": [],
   "source": [
    "encoder = ce.CountEncoder(cols=cat_features)"
   ]
  },
  {
   "cell_type": "code",
   "execution_count": 9,
   "metadata": {},
   "outputs": [
    {
     "data": {
      "text/html": [
       "<div>\n",
       "<style scoped>\n",
       "    .dataframe tbody tr th:only-of-type {\n",
       "        vertical-align: middle;\n",
       "    }\n",
       "\n",
       "    .dataframe tbody tr th {\n",
       "        vertical-align: top;\n",
       "    }\n",
       "\n",
       "    .dataframe thead th {\n",
       "        text-align: right;\n",
       "    }\n",
       "</style>\n",
       "<table border=\"1\" class=\"dataframe\">\n",
       "  <thead>\n",
       "    <tr style=\"text-align: right;\">\n",
       "      <th></th>\n",
       "      <th>hour</th>\n",
       "      <th>day</th>\n",
       "      <th>month</th>\n",
       "      <th>year</th>\n",
       "      <th>goal</th>\n",
       "      <th>outcome</th>\n",
       "    </tr>\n",
       "  </thead>\n",
       "  <tbody>\n",
       "    <tr>\n",
       "      <th>0</th>\n",
       "      <td>12</td>\n",
       "      <td>11</td>\n",
       "      <td>8</td>\n",
       "      <td>2015</td>\n",
       "      <td>1000.0</td>\n",
       "      <td>0</td>\n",
       "    </tr>\n",
       "    <tr>\n",
       "      <th>1</th>\n",
       "      <td>4</td>\n",
       "      <td>2</td>\n",
       "      <td>9</td>\n",
       "      <td>2017</td>\n",
       "      <td>30000.0</td>\n",
       "      <td>0</td>\n",
       "    </tr>\n",
       "    <tr>\n",
       "      <th>2</th>\n",
       "      <td>0</td>\n",
       "      <td>12</td>\n",
       "      <td>1</td>\n",
       "      <td>2013</td>\n",
       "      <td>45000.0</td>\n",
       "      <td>0</td>\n",
       "    </tr>\n",
       "    <tr>\n",
       "      <th>3</th>\n",
       "      <td>3</td>\n",
       "      <td>17</td>\n",
       "      <td>3</td>\n",
       "      <td>2012</td>\n",
       "      <td>5000.0</td>\n",
       "      <td>0</td>\n",
       "    </tr>\n",
       "    <tr>\n",
       "      <th>4</th>\n",
       "      <td>8</td>\n",
       "      <td>4</td>\n",
       "      <td>7</td>\n",
       "      <td>2015</td>\n",
       "      <td>19500.0</td>\n",
       "      <td>0</td>\n",
       "    </tr>\n",
       "  </tbody>\n",
       "</table>\n",
       "</div>"
      ],
      "text/plain": [
       "   hour  day  month  year     goal  outcome\n",
       "0    12   11      8  2015   1000.0        0\n",
       "1     4    2      9  2017  30000.0        0\n",
       "2     0   12      1  2013  45000.0        0\n",
       "3     3   17      3  2012   5000.0        0\n",
       "4     8    4      7  2015  19500.0        0"
      ]
     },
     "execution_count": 9,
     "metadata": {},
     "output_type": "execute_result"
    }
   ],
   "source": [
    "num_X = data[['hour', 'day', 'month', 'year', 'goal', 'outcome']]\n",
    "num_X.head()"
   ]
  },
  {
   "cell_type": "code",
   "execution_count": 10,
   "metadata": {},
   "outputs": [
    {
     "data": {
      "text/html": [
       "<div>\n",
       "<style scoped>\n",
       "    .dataframe tbody tr th:only-of-type {\n",
       "        vertical-align: middle;\n",
       "    }\n",
       "\n",
       "    .dataframe tbody tr th {\n",
       "        vertical-align: top;\n",
       "    }\n",
       "\n",
       "    .dataframe thead th {\n",
       "        text-align: right;\n",
       "    }\n",
       "</style>\n",
       "<table border=\"1\" class=\"dataframe\">\n",
       "  <thead>\n",
       "    <tr style=\"text-align: right;\">\n",
       "      <th></th>\n",
       "      <th>hour</th>\n",
       "      <th>day</th>\n",
       "      <th>month</th>\n",
       "      <th>year</th>\n",
       "      <th>goal</th>\n",
       "      <th>outcome</th>\n",
       "      <th>category</th>\n",
       "      <th>currency</th>\n",
       "      <th>country</th>\n",
       "    </tr>\n",
       "  </thead>\n",
       "  <tbody>\n",
       "    <tr>\n",
       "      <th>0</th>\n",
       "      <td>12</td>\n",
       "      <td>11</td>\n",
       "      <td>8</td>\n",
       "      <td>2015</td>\n",
       "      <td>1000.0</td>\n",
       "      <td>0</td>\n",
       "      <td>Poetry</td>\n",
       "      <td>GBP</td>\n",
       "      <td>GB</td>\n",
       "    </tr>\n",
       "    <tr>\n",
       "      <th>1</th>\n",
       "      <td>4</td>\n",
       "      <td>2</td>\n",
       "      <td>9</td>\n",
       "      <td>2017</td>\n",
       "      <td>30000.0</td>\n",
       "      <td>0</td>\n",
       "      <td>Narrative Film</td>\n",
       "      <td>USD</td>\n",
       "      <td>US</td>\n",
       "    </tr>\n",
       "    <tr>\n",
       "      <th>2</th>\n",
       "      <td>0</td>\n",
       "      <td>12</td>\n",
       "      <td>1</td>\n",
       "      <td>2013</td>\n",
       "      <td>45000.0</td>\n",
       "      <td>0</td>\n",
       "      <td>Narrative Film</td>\n",
       "      <td>USD</td>\n",
       "      <td>US</td>\n",
       "    </tr>\n",
       "    <tr>\n",
       "      <th>3</th>\n",
       "      <td>3</td>\n",
       "      <td>17</td>\n",
       "      <td>3</td>\n",
       "      <td>2012</td>\n",
       "      <td>5000.0</td>\n",
       "      <td>0</td>\n",
       "      <td>Music</td>\n",
       "      <td>USD</td>\n",
       "      <td>US</td>\n",
       "    </tr>\n",
       "    <tr>\n",
       "      <th>4</th>\n",
       "      <td>8</td>\n",
       "      <td>4</td>\n",
       "      <td>7</td>\n",
       "      <td>2015</td>\n",
       "      <td>19500.0</td>\n",
       "      <td>0</td>\n",
       "      <td>Film &amp; Video</td>\n",
       "      <td>USD</td>\n",
       "      <td>US</td>\n",
       "    </tr>\n",
       "  </tbody>\n",
       "</table>\n",
       "</div>"
      ],
      "text/plain": [
       "   hour  day  month  year     goal  outcome        category currency country\n",
       "0    12   11      8  2015   1000.0        0          Poetry      GBP      GB\n",
       "1     4    2      9  2017  30000.0        0  Narrative Film      USD      US\n",
       "2     0   12      1  2013  45000.0        0  Narrative Film      USD      US\n",
       "3     3   17      3  2012   5000.0        0           Music      USD      US\n",
       "4     8    4      7  2015  19500.0        0    Film & Video      USD      US"
      ]
     },
     "execution_count": 10,
     "metadata": {},
     "output_type": "execute_result"
    }
   ],
   "source": [
    "X = num_X.join(data[cat_features])\n",
    "\n",
    "X.head()"
   ]
  },
  {
   "cell_type": "code",
   "execution_count": 11,
   "metadata": {},
   "outputs": [
    {
     "data": {
      "text/plain": [
       "(37586, 9)"
      ]
     },
     "execution_count": 11,
     "metadata": {},
     "output_type": "execute_result"
    }
   ],
   "source": [
    "valid_fraction = 0.1\n",
    "valid_size = int(len(X) * valid_fraction)\n",
    "\n",
    "train = X[: -2* valid_size]\n",
    "valid = X[-2*valid_size: -valid_size]\n",
    "test = X[-valid_size:]\n",
    "test.shape"
   ]
  },
  {
   "cell_type": "code",
   "execution_count": 12,
   "metadata": {},
   "outputs": [
    {
     "data": {
      "text/html": [
       "<div>\n",
       "<style scoped>\n",
       "    .dataframe tbody tr th:only-of-type {\n",
       "        vertical-align: middle;\n",
       "    }\n",
       "\n",
       "    .dataframe tbody tr th {\n",
       "        vertical-align: top;\n",
       "    }\n",
       "\n",
       "    .dataframe thead th {\n",
       "        text-align: right;\n",
       "    }\n",
       "</style>\n",
       "<table border=\"1\" class=\"dataframe\">\n",
       "  <thead>\n",
       "    <tr style=\"text-align: right;\">\n",
       "      <th></th>\n",
       "      <th>hour</th>\n",
       "      <th>day</th>\n",
       "      <th>month</th>\n",
       "      <th>year</th>\n",
       "      <th>goal</th>\n",
       "      <th>outcome</th>\n",
       "      <th>category</th>\n",
       "      <th>currency</th>\n",
       "      <th>country</th>\n",
       "    </tr>\n",
       "  </thead>\n",
       "  <tbody>\n",
       "    <tr>\n",
       "      <th>0</th>\n",
       "      <td>12</td>\n",
       "      <td>11</td>\n",
       "      <td>8</td>\n",
       "      <td>2015</td>\n",
       "      <td>1000.0</td>\n",
       "      <td>0</td>\n",
       "      <td>Poetry</td>\n",
       "      <td>GBP</td>\n",
       "      <td>GB</td>\n",
       "    </tr>\n",
       "    <tr>\n",
       "      <th>1</th>\n",
       "      <td>4</td>\n",
       "      <td>2</td>\n",
       "      <td>9</td>\n",
       "      <td>2017</td>\n",
       "      <td>30000.0</td>\n",
       "      <td>0</td>\n",
       "      <td>Narrative Film</td>\n",
       "      <td>USD</td>\n",
       "      <td>US</td>\n",
       "    </tr>\n",
       "  </tbody>\n",
       "</table>\n",
       "</div>"
      ],
      "text/plain": [
       "   hour  day  month  year     goal  outcome        category currency country\n",
       "0    12   11      8  2015   1000.0        0          Poetry      GBP      GB\n",
       "1     4    2      9  2017  30000.0        0  Narrative Film      USD      US"
      ]
     },
     "execution_count": 12,
     "metadata": {},
     "output_type": "execute_result"
    }
   ],
   "source": [
    "train.head(2)"
   ]
  },
  {
   "cell_type": "code",
   "execution_count": 13,
   "metadata": {},
   "outputs": [
    {
     "data": {
      "text/plain": [
       "CountEncoder(cols=['category', 'currency', 'country'],\n",
       "             combine_min_nan_groups=True, drop_invariant=False,\n",
       "             handle_missing='count', handle_unknown=None, min_group_name=None,\n",
       "             min_group_size=None, normalize=False, return_df=True, verbose=0)"
      ]
     },
     "execution_count": 13,
     "metadata": {},
     "output_type": "execute_result"
    }
   ],
   "source": [
    "encoder.fit(train[cat_features])"
   ]
  },
  {
   "cell_type": "code",
   "execution_count": 14,
   "metadata": {},
   "outputs": [
    {
     "data": {
      "text/html": [
       "<div>\n",
       "<style scoped>\n",
       "    .dataframe tbody tr th:only-of-type {\n",
       "        vertical-align: middle;\n",
       "    }\n",
       "\n",
       "    .dataframe tbody tr th {\n",
       "        vertical-align: top;\n",
       "    }\n",
       "\n",
       "    .dataframe thead th {\n",
       "        text-align: right;\n",
       "    }\n",
       "</style>\n",
       "<table border=\"1\" class=\"dataframe\">\n",
       "  <thead>\n",
       "    <tr style=\"text-align: right;\">\n",
       "      <th></th>\n",
       "      <th>hour</th>\n",
       "      <th>day</th>\n",
       "      <th>month</th>\n",
       "      <th>year</th>\n",
       "      <th>goal</th>\n",
       "      <th>outcome</th>\n",
       "      <th>category</th>\n",
       "      <th>currency</th>\n",
       "      <th>country</th>\n",
       "      <th>category_count</th>\n",
       "      <th>currency_count</th>\n",
       "      <th>country_count</th>\n",
       "    </tr>\n",
       "  </thead>\n",
       "  <tbody>\n",
       "    <tr>\n",
       "      <th>0</th>\n",
       "      <td>12</td>\n",
       "      <td>11</td>\n",
       "      <td>8</td>\n",
       "      <td>2015</td>\n",
       "      <td>1000.0</td>\n",
       "      <td>0</td>\n",
       "      <td>Poetry</td>\n",
       "      <td>GBP</td>\n",
       "      <td>GB</td>\n",
       "      <td>1055</td>\n",
       "      <td>27142</td>\n",
       "      <td>26770</td>\n",
       "    </tr>\n",
       "    <tr>\n",
       "      <th>1</th>\n",
       "      <td>4</td>\n",
       "      <td>2</td>\n",
       "      <td>9</td>\n",
       "      <td>2017</td>\n",
       "      <td>30000.0</td>\n",
       "      <td>0</td>\n",
       "      <td>Narrative Film</td>\n",
       "      <td>USD</td>\n",
       "      <td>US</td>\n",
       "      <td>4160</td>\n",
       "      <td>234783</td>\n",
       "      <td>232607</td>\n",
       "    </tr>\n",
       "    <tr>\n",
       "      <th>2</th>\n",
       "      <td>0</td>\n",
       "      <td>12</td>\n",
       "      <td>1</td>\n",
       "      <td>2013</td>\n",
       "      <td>45000.0</td>\n",
       "      <td>0</td>\n",
       "      <td>Narrative Film</td>\n",
       "      <td>USD</td>\n",
       "      <td>US</td>\n",
       "      <td>4160</td>\n",
       "      <td>234783</td>\n",
       "      <td>232607</td>\n",
       "    </tr>\n",
       "    <tr>\n",
       "      <th>3</th>\n",
       "      <td>3</td>\n",
       "      <td>17</td>\n",
       "      <td>3</td>\n",
       "      <td>2012</td>\n",
       "      <td>5000.0</td>\n",
       "      <td>0</td>\n",
       "      <td>Music</td>\n",
       "      <td>USD</td>\n",
       "      <td>US</td>\n",
       "      <td>12485</td>\n",
       "      <td>234783</td>\n",
       "      <td>232607</td>\n",
       "    </tr>\n",
       "    <tr>\n",
       "      <th>4</th>\n",
       "      <td>8</td>\n",
       "      <td>4</td>\n",
       "      <td>7</td>\n",
       "      <td>2015</td>\n",
       "      <td>19500.0</td>\n",
       "      <td>0</td>\n",
       "      <td>Film &amp; Video</td>\n",
       "      <td>USD</td>\n",
       "      <td>US</td>\n",
       "      <td>8076</td>\n",
       "      <td>234783</td>\n",
       "      <td>232607</td>\n",
       "    </tr>\n",
       "  </tbody>\n",
       "</table>\n",
       "</div>"
      ],
      "text/plain": [
       "   hour  day  month  year     goal  outcome        category currency country  \\\n",
       "0    12   11      8  2015   1000.0        0          Poetry      GBP      GB   \n",
       "1     4    2      9  2017  30000.0        0  Narrative Film      USD      US   \n",
       "2     0   12      1  2013  45000.0        0  Narrative Film      USD      US   \n",
       "3     3   17      3  2012   5000.0        0           Music      USD      US   \n",
       "4     8    4      7  2015  19500.0        0    Film & Video      USD      US   \n",
       "\n",
       "   category_count  currency_count  country_count  \n",
       "0            1055           27142          26770  \n",
       "1            4160          234783         232607  \n",
       "2            4160          234783         232607  \n",
       "3           12485          234783         232607  \n",
       "4            8076          234783         232607  "
      ]
     },
     "execution_count": 14,
     "metadata": {},
     "output_type": "execute_result"
    }
   ],
   "source": [
    "count_train = train.join(encoder.transform(train[cat_features]).add_suffix('_count'))\n",
    "count_valid = valid.join(encoder.transform(valid[cat_features]).add_suffix('_count'))\n",
    "count_test = test.join(encoder.transform(test[cat_features]).add_suffix('_count'))\n",
    "\n",
    "count_train.head()"
   ]
  },
  {
   "cell_type": "code",
   "execution_count": 15,
   "metadata": {},
   "outputs": [],
   "source": [
    "param = {'num_leaves': 65, 'objective': 'binary', 'metrics': 'auc'}\n",
    "num_rounds = 1000"
   ]
  },
  {
   "cell_type": "code",
   "execution_count": 16,
   "metadata": {},
   "outputs": [
    {
     "data": {
      "text/plain": [
       "Index(['hour', 'day', 'month', 'year', 'goal', 'category_count',\n",
       "       'currency_count', 'country_count'],\n",
       "      dtype='object')"
      ]
     },
     "execution_count": 16,
     "metadata": {},
     "output_type": "execute_result"
    }
   ],
   "source": [
    "features = count_train.columns.drop(['outcome', 'category', 'currency', 'country'])\n",
    "features"
   ]
  },
  {
   "cell_type": "code",
   "execution_count": 17,
   "metadata": {},
   "outputs": [],
   "source": [
    "dtrain = lgb.Dataset(count_train[features], train['outcome'])\n",
    "dvalid = lgb.Dataset(count_valid[features], valid['outcome'])"
   ]
  },
  {
   "cell_type": "code",
   "execution_count": 18,
   "metadata": {},
   "outputs": [
    {
     "name": "stdout",
     "output_type": "stream",
     "text": [
      "[LightGBM] [Info] Number of positive: 107340, number of negative: 193350\n",
      "[LightGBM] [Warning] Auto-choosing row-wise multi-threading, the overhead of testing was 0.012044 seconds.\n",
      "You can set `force_row_wise=true` to remove the overhead.\n",
      "And if memory is not enough, you can set `force_col_wise=true`.\n",
      "[LightGBM] [Info] Total Bins 524\n",
      "[LightGBM] [Info] Number of data points in the train set: 300690, number of used features: 8\n",
      "[LightGBM] [Info] [binary:BoostFromScore]: pavg=0.356979 -> initscore=-0.588501\n",
      "[LightGBM] [Info] Start training from score -0.588501\n",
      "[1]\tvalid_0's auc: 0.693797\n",
      "Training until validation scores don't improve for 5 rounds\n",
      "[2]\tvalid_0's auc: 0.696566\n",
      "[3]\tvalid_0's auc: 0.703284\n",
      "[4]\tvalid_0's auc: 0.706447\n",
      "[5]\tvalid_0's auc: 0.708446\n",
      "[6]\tvalid_0's auc: 0.709716\n",
      "[7]\tvalid_0's auc: 0.710423\n",
      "[8]\tvalid_0's auc: 0.711094\n",
      "[9]\tvalid_0's auc: 0.712814\n",
      "[10]\tvalid_0's auc: 0.713492\n",
      "[11]\tvalid_0's auc: 0.714588\n",
      "[12]\tvalid_0's auc: 0.715286\n",
      "[13]\tvalid_0's auc: 0.716922\n",
      "[14]\tvalid_0's auc: 0.718268\n",
      "[15]\tvalid_0's auc: 0.719525\n",
      "[16]\tvalid_0's auc: 0.720495\n",
      "[17]\tvalid_0's auc: 0.721461\n",
      "[18]\tvalid_0's auc: 0.722519\n",
      "[19]\tvalid_0's auc: 0.723095\n",
      "[20]\tvalid_0's auc: 0.72503\n",
      "[21]\tvalid_0's auc: 0.725498\n",
      "[22]\tvalid_0's auc: 0.72592\n",
      "[23]\tvalid_0's auc: 0.726561\n",
      "[24]\tvalid_0's auc: 0.727079\n",
      "[25]\tvalid_0's auc: 0.728501\n",
      "[26]\tvalid_0's auc: 0.728898\n",
      "[27]\tvalid_0's auc: 0.729398\n",
      "[28]\tvalid_0's auc: 0.730662\n",
      "[29]\tvalid_0's auc: 0.731083\n",
      "[30]\tvalid_0's auc: 0.73138\n",
      "[31]\tvalid_0's auc: 0.733076\n",
      "[32]\tvalid_0's auc: 0.733376\n",
      "[33]\tvalid_0's auc: 0.734348\n",
      "[34]\tvalid_0's auc: 0.73469\n",
      "[35]\tvalid_0's auc: 0.734867\n",
      "[36]\tvalid_0's auc: 0.736201\n",
      "[37]\tvalid_0's auc: 0.736361\n",
      "[38]\tvalid_0's auc: 0.737245\n",
      "[39]\tvalid_0's auc: 0.737617\n",
      "[40]\tvalid_0's auc: 0.737724\n",
      "[41]\tvalid_0's auc: 0.73805\n",
      "[42]\tvalid_0's auc: 0.738636\n",
      "[43]\tvalid_0's auc: 0.739435\n",
      "[44]\tvalid_0's auc: 0.739889\n",
      "[45]\tvalid_0's auc: 0.739988\n",
      "[46]\tvalid_0's auc: 0.740315\n",
      "[47]\tvalid_0's auc: 0.740812\n",
      "[48]\tvalid_0's auc: 0.740981\n",
      "[49]\tvalid_0's auc: 0.741119\n",
      "[50]\tvalid_0's auc: 0.741233\n",
      "[51]\tvalid_0's auc: 0.741763\n",
      "[52]\tvalid_0's auc: 0.742186\n",
      "[53]\tvalid_0's auc: 0.742293\n",
      "[54]\tvalid_0's auc: 0.742391\n",
      "[55]\tvalid_0's auc: 0.742464\n",
      "[56]\tvalid_0's auc: 0.742832\n",
      "[57]\tvalid_0's auc: 0.742986\n",
      "[58]\tvalid_0's auc: 0.743145\n",
      "[59]\tvalid_0's auc: 0.743219\n",
      "[60]\tvalid_0's auc: 0.743388\n",
      "[61]\tvalid_0's auc: 0.743528\n",
      "[62]\tvalid_0's auc: 0.743913\n",
      "[63]\tvalid_0's auc: 0.744104\n",
      "[64]\tvalid_0's auc: 0.744106\n",
      "[65]\tvalid_0's auc: 0.744375\n",
      "[66]\tvalid_0's auc: 0.744434\n",
      "[67]\tvalid_0's auc: 0.74469\n",
      "[68]\tvalid_0's auc: 0.74485\n",
      "[69]\tvalid_0's auc: 0.74501\n",
      "[70]\tvalid_0's auc: 0.745031\n",
      "[71]\tvalid_0's auc: 0.745288\n",
      "[72]\tvalid_0's auc: 0.74542\n",
      "[73]\tvalid_0's auc: 0.745412\n",
      "[74]\tvalid_0's auc: 0.745404\n",
      "[75]\tvalid_0's auc: 0.745637\n",
      "[76]\tvalid_0's auc: 0.745707\n",
      "[77]\tvalid_0's auc: 0.745759\n",
      "[78]\tvalid_0's auc: 0.745776\n",
      "[79]\tvalid_0's auc: 0.745857\n",
      "[80]\tvalid_0's auc: 0.745917\n",
      "[81]\tvalid_0's auc: 0.745869\n",
      "[82]\tvalid_0's auc: 0.745877\n",
      "[83]\tvalid_0's auc: 0.745883\n",
      "[84]\tvalid_0's auc: 0.745998\n",
      "[85]\tvalid_0's auc: 0.745971\n",
      "[86]\tvalid_0's auc: 0.746009\n",
      "[87]\tvalid_0's auc: 0.746019\n",
      "[88]\tvalid_0's auc: 0.746162\n",
      "[89]\tvalid_0's auc: 0.746234\n",
      "[90]\tvalid_0's auc: 0.746225\n",
      "[91]\tvalid_0's auc: 0.746276\n",
      "[92]\tvalid_0's auc: 0.746272\n",
      "[93]\tvalid_0's auc: 0.746375\n",
      "[94]\tvalid_0's auc: 0.7464\n",
      "[95]\tvalid_0's auc: 0.746361\n",
      "[96]\tvalid_0's auc: 0.74657\n",
      "[97]\tvalid_0's auc: 0.746578\n",
      "[98]\tvalid_0's auc: 0.746531\n",
      "[99]\tvalid_0's auc: 0.746602\n",
      "[100]\tvalid_0's auc: 0.746645\n",
      "[101]\tvalid_0's auc: 0.746753\n",
      "[102]\tvalid_0's auc: 0.74679\n",
      "[103]\tvalid_0's auc: 0.746905\n",
      "[104]\tvalid_0's auc: 0.74691\n",
      "[105]\tvalid_0's auc: 0.747087\n",
      "[106]\tvalid_0's auc: 0.747086\n",
      "[107]\tvalid_0's auc: 0.747091\n",
      "[108]\tvalid_0's auc: 0.74718\n",
      "[109]\tvalid_0's auc: 0.747277\n",
      "[110]\tvalid_0's auc: 0.747224\n",
      "[111]\tvalid_0's auc: 0.747205\n",
      "[112]\tvalid_0's auc: 0.747197\n",
      "[113]\tvalid_0's auc: 0.747224\n",
      "[114]\tvalid_0's auc: 0.747273\n",
      "Early stopping, best iteration is:\n",
      "[109]\tvalid_0's auc: 0.747277\n"
     ]
    }
   ],
   "source": [
    "model = lgb.train(param, dtrain, num_rounds, valid_sets=[dvalid], early_stopping_rounds=5)"
   ]
  },
  {
   "cell_type": "code",
   "execution_count": 19,
   "metadata": {},
   "outputs": [
    {
     "data": {
      "text/plain": [
       "0.7470107880058254"
      ]
     },
     "execution_count": 19,
     "metadata": {},
     "output_type": "execute_result"
    }
   ],
   "source": [
    "preds = model.predict(count_test[features])\n",
    "score = metrics.roc_auc_score(count_test['outcome'], preds)\n",
    "score"
   ]
  },
  {
   "cell_type": "markdown",
   "metadata": {},
   "source": [
    "# Some FeAturE eNGineeRing"
   ]
  },
  {
   "cell_type": "markdown",
   "metadata": {},
   "source": [
    "### INterActions"
   ]
  },
  {
   "cell_type": "code",
   "execution_count": 20,
   "metadata": {},
   "outputs": [
    {
     "data": {
      "text/html": [
       "<div>\n",
       "<style scoped>\n",
       "    .dataframe tbody tr th:only-of-type {\n",
       "        vertical-align: middle;\n",
       "    }\n",
       "\n",
       "    .dataframe tbody tr th {\n",
       "        vertical-align: top;\n",
       "    }\n",
       "\n",
       "    .dataframe thead th {\n",
       "        text-align: right;\n",
       "    }\n",
       "</style>\n",
       "<table border=\"1\" class=\"dataframe\">\n",
       "  <thead>\n",
       "    <tr style=\"text-align: right;\">\n",
       "      <th></th>\n",
       "      <th>hour</th>\n",
       "      <th>day</th>\n",
       "      <th>month</th>\n",
       "      <th>year</th>\n",
       "      <th>goal</th>\n",
       "      <th>outcome</th>\n",
       "      <th>category</th>\n",
       "      <th>currency</th>\n",
       "      <th>country</th>\n",
       "    </tr>\n",
       "  </thead>\n",
       "  <tbody>\n",
       "    <tr>\n",
       "      <th>0</th>\n",
       "      <td>12</td>\n",
       "      <td>11</td>\n",
       "      <td>8</td>\n",
       "      <td>2015</td>\n",
       "      <td>1000.0</td>\n",
       "      <td>0</td>\n",
       "      <td>Poetry</td>\n",
       "      <td>GBP</td>\n",
       "      <td>GB</td>\n",
       "    </tr>\n",
       "    <tr>\n",
       "      <th>1</th>\n",
       "      <td>4</td>\n",
       "      <td>2</td>\n",
       "      <td>9</td>\n",
       "      <td>2017</td>\n",
       "      <td>30000.0</td>\n",
       "      <td>0</td>\n",
       "      <td>Narrative Film</td>\n",
       "      <td>USD</td>\n",
       "      <td>US</td>\n",
       "    </tr>\n",
       "    <tr>\n",
       "      <th>2</th>\n",
       "      <td>0</td>\n",
       "      <td>12</td>\n",
       "      <td>1</td>\n",
       "      <td>2013</td>\n",
       "      <td>45000.0</td>\n",
       "      <td>0</td>\n",
       "      <td>Narrative Film</td>\n",
       "      <td>USD</td>\n",
       "      <td>US</td>\n",
       "    </tr>\n",
       "  </tbody>\n",
       "</table>\n",
       "</div>"
      ],
      "text/plain": [
       "   hour  day  month  year     goal  outcome        category currency country\n",
       "0    12   11      8  2015   1000.0        0          Poetry      GBP      GB\n",
       "1     4    2      9  2017  30000.0        0  Narrative Film      USD      US\n",
       "2     0   12      1  2013  45000.0        0  Narrative Film      USD      US"
      ]
     },
     "execution_count": 20,
     "metadata": {},
     "output_type": "execute_result"
    }
   ],
   "source": [
    "new_X = X.copy()\n",
    "new_X.head(3)"
   ]
  },
  {
   "cell_type": "code",
   "execution_count": 21,
   "metadata": {},
   "outputs": [
    {
     "data": {
      "text/plain": [
       "(375862, 9)"
      ]
     },
     "execution_count": 21,
     "metadata": {},
     "output_type": "execute_result"
    }
   ],
   "source": [
    "new_X.shape"
   ]
  },
  {
   "cell_type": "code",
   "execution_count": 22,
   "metadata": {},
   "outputs": [
    {
     "data": {
      "text/html": [
       "<div>\n",
       "<style scoped>\n",
       "    .dataframe tbody tr th:only-of-type {\n",
       "        vertical-align: middle;\n",
       "    }\n",
       "\n",
       "    .dataframe tbody tr th {\n",
       "        vertical-align: top;\n",
       "    }\n",
       "\n",
       "    .dataframe thead th {\n",
       "        text-align: right;\n",
       "    }\n",
       "</style>\n",
       "<table border=\"1\" class=\"dataframe\">\n",
       "  <thead>\n",
       "    <tr style=\"text-align: right;\">\n",
       "      <th></th>\n",
       "      <th>hour</th>\n",
       "      <th>day</th>\n",
       "      <th>month</th>\n",
       "      <th>year</th>\n",
       "      <th>goal</th>\n",
       "      <th>outcome</th>\n",
       "      <th>category</th>\n",
       "      <th>currency</th>\n",
       "      <th>country</th>\n",
       "      <th>country_categ</th>\n",
       "    </tr>\n",
       "  </thead>\n",
       "  <tbody>\n",
       "    <tr>\n",
       "      <th>0</th>\n",
       "      <td>12</td>\n",
       "      <td>11</td>\n",
       "      <td>8</td>\n",
       "      <td>2015</td>\n",
       "      <td>1000.0</td>\n",
       "      <td>0</td>\n",
       "      <td>Poetry</td>\n",
       "      <td>GBP</td>\n",
       "      <td>GB</td>\n",
       "      <td>GB_Poetry</td>\n",
       "    </tr>\n",
       "    <tr>\n",
       "      <th>1</th>\n",
       "      <td>4</td>\n",
       "      <td>2</td>\n",
       "      <td>9</td>\n",
       "      <td>2017</td>\n",
       "      <td>30000.0</td>\n",
       "      <td>0</td>\n",
       "      <td>Narrative Film</td>\n",
       "      <td>USD</td>\n",
       "      <td>US</td>\n",
       "      <td>US_Narrative Film</td>\n",
       "    </tr>\n",
       "    <tr>\n",
       "      <th>2</th>\n",
       "      <td>0</td>\n",
       "      <td>12</td>\n",
       "      <td>1</td>\n",
       "      <td>2013</td>\n",
       "      <td>45000.0</td>\n",
       "      <td>0</td>\n",
       "      <td>Narrative Film</td>\n",
       "      <td>USD</td>\n",
       "      <td>US</td>\n",
       "      <td>US_Narrative Film</td>\n",
       "    </tr>\n",
       "  </tbody>\n",
       "</table>\n",
       "</div>"
      ],
      "text/plain": [
       "   hour  day  month  year     goal  outcome        category currency country  \\\n",
       "0    12   11      8  2015   1000.0        0          Poetry      GBP      GB   \n",
       "1     4    2      9  2017  30000.0        0  Narrative Film      USD      US   \n",
       "2     0   12      1  2013  45000.0        0  Narrative Film      USD      US   \n",
       "\n",
       "       country_categ  \n",
       "0          GB_Poetry  \n",
       "1  US_Narrative Film  \n",
       "2  US_Narrative Film  "
      ]
     },
     "execution_count": 22,
     "metadata": {},
     "output_type": "execute_result"
    }
   ],
   "source": [
    "new_X['country_categ'] = new_X.country + '_' + new_X.category\n",
    "new_X.head(3)"
   ]
  },
  {
   "cell_type": "code",
   "execution_count": 23,
   "metadata": {},
   "outputs": [
    {
     "data": {
      "text/html": [
       "<div>\n",
       "<style scoped>\n",
       "    .dataframe tbody tr th:only-of-type {\n",
       "        vertical-align: middle;\n",
       "    }\n",
       "\n",
       "    .dataframe tbody tr th {\n",
       "        vertical-align: top;\n",
       "    }\n",
       "\n",
       "    .dataframe thead th {\n",
       "        text-align: right;\n",
       "    }\n",
       "</style>\n",
       "<table border=\"1\" class=\"dataframe\">\n",
       "  <thead>\n",
       "    <tr style=\"text-align: right;\">\n",
       "      <th></th>\n",
       "      <th>hour</th>\n",
       "      <th>day</th>\n",
       "      <th>month</th>\n",
       "      <th>year</th>\n",
       "      <th>goal</th>\n",
       "      <th>outcome</th>\n",
       "      <th>category</th>\n",
       "      <th>currency</th>\n",
       "      <th>country</th>\n",
       "      <th>country_categ</th>\n",
       "      <th>category_curren</th>\n",
       "    </tr>\n",
       "  </thead>\n",
       "  <tbody>\n",
       "    <tr>\n",
       "      <th>0</th>\n",
       "      <td>12</td>\n",
       "      <td>11</td>\n",
       "      <td>8</td>\n",
       "      <td>2015</td>\n",
       "      <td>1000.0</td>\n",
       "      <td>0</td>\n",
       "      <td>Poetry</td>\n",
       "      <td>GBP</td>\n",
       "      <td>GB</td>\n",
       "      <td>GB_Poetry</td>\n",
       "      <td>Poetry_GBP</td>\n",
       "    </tr>\n",
       "    <tr>\n",
       "      <th>1</th>\n",
       "      <td>4</td>\n",
       "      <td>2</td>\n",
       "      <td>9</td>\n",
       "      <td>2017</td>\n",
       "      <td>30000.0</td>\n",
       "      <td>0</td>\n",
       "      <td>Narrative Film</td>\n",
       "      <td>USD</td>\n",
       "      <td>US</td>\n",
       "      <td>US_Narrative Film</td>\n",
       "      <td>Narrative Film_USD</td>\n",
       "    </tr>\n",
       "    <tr>\n",
       "      <th>2</th>\n",
       "      <td>0</td>\n",
       "      <td>12</td>\n",
       "      <td>1</td>\n",
       "      <td>2013</td>\n",
       "      <td>45000.0</td>\n",
       "      <td>0</td>\n",
       "      <td>Narrative Film</td>\n",
       "      <td>USD</td>\n",
       "      <td>US</td>\n",
       "      <td>US_Narrative Film</td>\n",
       "      <td>Narrative Film_USD</td>\n",
       "    </tr>\n",
       "  </tbody>\n",
       "</table>\n",
       "</div>"
      ],
      "text/plain": [
       "   hour  day  month  year     goal  outcome        category currency country  \\\n",
       "0    12   11      8  2015   1000.0        0          Poetry      GBP      GB   \n",
       "1     4    2      9  2017  30000.0        0  Narrative Film      USD      US   \n",
       "2     0   12      1  2013  45000.0        0  Narrative Film      USD      US   \n",
       "\n",
       "       country_categ     category_curren  \n",
       "0          GB_Poetry          Poetry_GBP  \n",
       "1  US_Narrative Film  Narrative Film_USD  \n",
       "2  US_Narrative Film  Narrative Film_USD  "
      ]
     },
     "execution_count": 23,
     "metadata": {},
     "output_type": "execute_result"
    }
   ],
   "source": [
    "new_X = new_X.assign(category_curren=(new_X.category + '_' + new_X.currency))\n",
    "new_X.head(3)"
   ]
  },
  {
   "cell_type": "markdown",
   "metadata": {},
   "source": [
    "# Number of Projects in last week"
   ]
  },
  {
   "cell_type": "raw",
   "metadata": {},
   "source": [
    "# ANother New Feature\n",
    "# USing the .Rolling def on the launched <datetime object>"
   ]
  },
  {
   "cell_type": "markdown",
   "metadata": {},
   "source": [
    "### Time Series and Rolling Window Def"
   ]
  },
  {
   "cell_type": "code",
   "execution_count": 75,
   "metadata": {},
   "outputs": [
    {
     "data": {
      "text/html": [
       "<div>\n",
       "<style scoped>\n",
       "    .dataframe tbody tr th:only-of-type {\n",
       "        vertical-align: middle;\n",
       "    }\n",
       "\n",
       "    .dataframe tbody tr th {\n",
       "        vertical-align: top;\n",
       "    }\n",
       "\n",
       "    .dataframe thead th {\n",
       "        text-align: right;\n",
       "    }\n",
       "</style>\n",
       "<table border=\"1\" class=\"dataframe\">\n",
       "  <thead>\n",
       "    <tr style=\"text-align: right;\">\n",
       "      <th></th>\n",
       "      <th>launched</th>\n",
       "    </tr>\n",
       "  </thead>\n",
       "  <tbody>\n",
       "    <tr>\n",
       "      <th>0</th>\n",
       "      <td>2015-08-11 12:12:28</td>\n",
       "    </tr>\n",
       "    <tr>\n",
       "      <th>1</th>\n",
       "      <td>2017-09-02 04:43:57</td>\n",
       "    </tr>\n",
       "    <tr>\n",
       "      <th>2</th>\n",
       "      <td>2013-01-12 00:20:50</td>\n",
       "    </tr>\n",
       "  </tbody>\n",
       "</table>\n",
       "</div>"
      ],
      "text/plain": [
       "             launched\n",
       "0 2015-08-11 12:12:28\n",
       "1 2017-09-02 04:43:57\n",
       "2 2013-01-12 00:20:50"
      ]
     },
     "execution_count": 75,
     "metadata": {},
     "output_type": "execute_result"
    }
   ],
   "source": [
    "data[['launched']].head(3)"
   ]
  },
  {
   "cell_type": "code",
   "execution_count": 77,
   "metadata": {},
   "outputs": [
    {
     "data": {
      "text/plain": [
       "launched    datetime64[ns]\n",
       "category            object\n",
       "dtype: object"
      ]
     },
     "execution_count": 77,
     "metadata": {},
     "output_type": "execute_result"
    }
   ],
   "source": [
    "data[['launched', 'category']].dtypes"
   ]
  },
  {
   "cell_type": "code",
   "execution_count": 78,
   "metadata": {},
   "outputs": [
    {
     "data": {
      "text/plain": [
       "launched\n",
       "1970-01-01 01:00:00     75397\n",
       "1970-01-01 01:00:00    319002\n",
       "1970-01-01 01:00:00      2842\n",
       "1970-01-01 01:00:00     94579\n",
       "1970-01-01 01:00:00    247913\n",
       "1970-01-01 01:00:00    273779\n",
       "1970-01-01 01:00:00     48147\n",
       "2009-04-21 21:02:48    169268\n",
       "2009-04-23 00:07:53    322000\n",
       "2009-04-24 21:52:03    138572\n",
       "Name: count_7_days, dtype: int64"
      ]
     },
     "execution_count": 78,
     "metadata": {},
     "output_type": "execute_result"
    }
   ],
   "source": [
    "# Create series with Timestamp index\n",
    "launched = pd.Series(data.index, index=data.launched, name='count_7_days').sort_index()\n",
    "launched.head(10)\n",
    "\n",
    "# Series contains the index values\n",
    "# To be return later"
   ]
  },
  {
   "cell_type": "code",
   "execution_count": 79,
   "metadata": {},
   "outputs": [
    {
     "data": {
      "text/plain": [
       "launched\n",
       "2009-04-21 21:02:48    0.0\n",
       "2009-04-23 00:07:53    1.0\n",
       "2009-04-24 21:52:03    2.0\n",
       "2009-04-25 17:36:21    3.0\n",
       "2009-04-27 14:10:39    4.0\n",
       "2009-04-28 13:55:41    5.0\n",
       "2009-04-29 02:04:21    5.0\n",
       "2009-04-29 02:58:50    6.0\n",
       "2009-04-29 04:37:37    7.0\n",
       "2009-04-29 05:26:32    8.0\n",
       "Name: count_7_days, dtype: float64"
      ]
     },
     "execution_count": 79,
     "metadata": {},
     "output_type": "execute_result"
    }
   ],
   "source": [
    "# With the TImestamp index\n",
    "# Use .Rolling def to select time periods\n",
    "count_7_days = launched.rolling('7d').count() - 1\n",
    "\n",
    "# The first 7 rows have incorrect data\n",
    "count_7_days[7:].head(10)"
   ]
  },
  {
   "cell_type": "code",
   "execution_count": 65,
   "metadata": {},
   "outputs": [],
   "source": [
    "# Plot the days\n",
    "import matplotlib.pyplot as plt\n",
    "\n",
    "%matplotlib inline"
   ]
  },
  {
   "cell_type": "code",
   "execution_count": 67,
   "metadata": {},
   "outputs": [
    {
     "data": {
      "text/plain": [
       "[<matplotlib.lines.Line2D at 0x21a8af70bc8>]"
      ]
     },
     "execution_count": 67,
     "metadata": {},
     "output_type": "execute_result"
    },
    {
     "data": {
      "image/png": "[encoded data removed]",
      "text/plain": [
       "<Figure size 432x288 with 1 Axes>"
      ]
     },
     "metadata": {
      "needs_background": "light"
     },
     "output_type": "display_data"
    }
   ],
   "source": [
    "plt.plot(count_7_days)"
   ]
  },
  {
   "cell_type": "code",
   "execution_count": 68,
   "metadata": {},
   "outputs": [
    {
     "data": {
      "text/plain": [
       "[<matplotlib.lines.Line2D at 0x21a8affc348>]"
      ]
     },
     "execution_count": 68,
     "metadata": {},
     "output_type": "execute_result"
    },
    {
     "data": {
      "image/png": "[encoded data removed]",
      "text/plain": [
       "<Figure size 432x288 with 1 Axes>"
      ]
     },
     "metadata": {
      "needs_background": "light"
     },
     "output_type": "display_data"
    }
   ],
   "source": [
    "# As you can see\n",
    "# Remove the first 7 entries\n",
    "plt.plot(count_7_days[7:])"
   ]
  },
  {
   "cell_type": "code",
   "execution_count": 70,
   "metadata": {},
   "outputs": [
    {
     "data": {
      "text/plain": [
       "94579     0.0\n",
       "319002    1.0\n",
       "247913    2.0\n",
       "48147     3.0\n",
       "75397     4.0\n",
       "Name: count_7_days, dtype: float64"
      ]
     },
     "execution_count": 70,
     "metadata": {},
     "output_type": "execute_result"
    }
   ],
   "source": [
    "# REturn the index of the original dataframe \n",
    "# Join to other features\n",
    "count_7_days.index = launched.values\n",
    "count_7_days.head()\n",
    "\n",
    "# Now the indices are all joumbled up\n",
    "# use .reindex def"
   ]
  },
  {
   "cell_type": "code",
   "execution_count": 71,
   "metadata": {},
   "outputs": [
    {
     "data": {
      "text/plain": [
       "0    1409.0\n",
       "1     957.0\n",
       "2     739.0\n",
       "3     907.0\n",
       "4    1429.0\n",
       "Name: count_7_days, dtype: float64"
      ]
     },
     "execution_count": 71,
     "metadata": {},
     "output_type": "execute_result"
    }
   ],
   "source": [
    "count_7_days = count_7_days.reindex(data.index)\n",
    "count_7_days.head()"
   ]
  },
  {
   "cell_type": "code",
   "execution_count": 82,
   "metadata": {},
   "outputs": [
    {
     "name": "stdout",
     "output_type": "stream",
     "text": [
      "0.0\n",
      "4012.0\n",
      "1121.4184613678199\n",
      "478.88911737679524\n"
     ]
    }
   ],
   "source": [
    "print(count_7_days.min())\n",
    "print(count_7_days.max())\n",
    "print(count_7_days.mean())\n",
    "print(count_7_days.std())"
   ]
  },
  {
   "cell_type": "code",
   "execution_count": 74,
   "metadata": {},
   "outputs": [
    {
     "data": {
      "text/html": [
       "<div>\n",
       "<style scoped>\n",
       "    .dataframe tbody tr th:only-of-type {\n",
       "        vertical-align: middle;\n",
       "    }\n",
       "\n",
       "    .dataframe tbody tr th {\n",
       "        vertical-align: top;\n",
       "    }\n",
       "\n",
       "    .dataframe thead th {\n",
       "        text-align: right;\n",
       "    }\n",
       "</style>\n",
       "<table border=\"1\" class=\"dataframe\">\n",
       "  <thead>\n",
       "    <tr style=\"text-align: right;\">\n",
       "      <th></th>\n",
       "      <th>category</th>\n",
       "      <th>launched</th>\n",
       "    </tr>\n",
       "  </thead>\n",
       "  <tbody>\n",
       "    <tr>\n",
       "      <th>0</th>\n",
       "      <td>Poetry</td>\n",
       "      <td>2015-08-11 12:12:28</td>\n",
       "    </tr>\n",
       "    <tr>\n",
       "      <th>1</th>\n",
       "      <td>Narrative Film</td>\n",
       "      <td>2017-09-02 04:43:57</td>\n",
       "    </tr>\n",
       "    <tr>\n",
       "      <th>2</th>\n",
       "      <td>Narrative Film</td>\n",
       "      <td>2013-01-12 00:20:50</td>\n",
       "    </tr>\n",
       "    <tr>\n",
       "      <th>3</th>\n",
       "      <td>Music</td>\n",
       "      <td>2012-03-17 03:24:11</td>\n",
       "    </tr>\n",
       "    <tr>\n",
       "      <th>4</th>\n",
       "      <td>Film &amp; Video</td>\n",
       "      <td>2015-07-04 08:35:03</td>\n",
       "    </tr>\n",
       "  </tbody>\n",
       "</table>\n",
       "</div>"
      ],
      "text/plain": [
       "         category            launched\n",
       "0          Poetry 2015-08-11 12:12:28\n",
       "1  Narrative Film 2017-09-02 04:43:57\n",
       "2  Narrative Film 2013-01-12 00:20:50\n",
       "3           Music 2012-03-17 03:24:11\n",
       "4    Film & Video 2015-07-04 08:35:03"
      ]
     },
     "execution_count": 74,
     "metadata": {},
     "output_type": "execute_result"
    }
   ],
   "source": [
    "df = data[['category', 'launched']]\n",
    "\n",
    "df.head()"
   ]
  },
  {
   "cell_type": "code",
   "execution_count": null,
   "metadata": {},
   "outputs": [],
   "source": []
  },
  {
   "cell_type": "code",
   "execution_count": null,
   "metadata": {},
   "outputs": [],
   "source": []
  },
  {
   "cell_type": "code",
   "execution_count": null,
   "metadata": {},
   "outputs": [],
   "source": []
  },
  {
   "cell_type": "code",
   "execution_count": 24,
   "metadata": {},
   "outputs": [
    {
     "data": {
      "text/plain": [
       "['category', 'currency', 'country', 'country_categ', 'category_curren']"
      ]
     },
     "execution_count": 24,
     "metadata": {},
     "output_type": "execute_result"
    }
   ],
   "source": [
    "cat_cols = [col for col in new_X.columns if new_X[col].dtype == 'object']\n",
    "cat_cols"
   ]
  },
  {
   "cell_type": "code",
   "execution_count": 25,
   "metadata": {},
   "outputs": [
    {
     "data": {
      "text/html": [
       "<div>\n",
       "<style scoped>\n",
       "    .dataframe tbody tr th:only-of-type {\n",
       "        vertical-align: middle;\n",
       "    }\n",
       "\n",
       "    .dataframe tbody tr th {\n",
       "        vertical-align: top;\n",
       "    }\n",
       "\n",
       "    .dataframe thead th {\n",
       "        text-align: right;\n",
       "    }\n",
       "</style>\n",
       "<table border=\"1\" class=\"dataframe\">\n",
       "  <thead>\n",
       "    <tr style=\"text-align: right;\">\n",
       "      <th></th>\n",
       "      <th>hour</th>\n",
       "      <th>day</th>\n",
       "      <th>month</th>\n",
       "      <th>year</th>\n",
       "      <th>goal</th>\n",
       "      <th>outcome</th>\n",
       "    </tr>\n",
       "  </thead>\n",
       "  <tbody>\n",
       "    <tr>\n",
       "      <th>0</th>\n",
       "      <td>12</td>\n",
       "      <td>11</td>\n",
       "      <td>8</td>\n",
       "      <td>2015</td>\n",
       "      <td>1000.0</td>\n",
       "      <td>0</td>\n",
       "    </tr>\n",
       "    <tr>\n",
       "      <th>1</th>\n",
       "      <td>4</td>\n",
       "      <td>2</td>\n",
       "      <td>9</td>\n",
       "      <td>2017</td>\n",
       "      <td>30000.0</td>\n",
       "      <td>0</td>\n",
       "    </tr>\n",
       "  </tbody>\n",
       "</table>\n",
       "</div>"
      ],
      "text/plain": [
       "   hour  day  month  year     goal  outcome\n",
       "0    12   11      8  2015   1000.0        0\n",
       "1     4    2      9  2017  30000.0        0"
      ]
     },
     "execution_count": 25,
     "metadata": {},
     "output_type": "execute_result"
    }
   ],
   "source": [
    "num_sub = new_X.drop(cat_cols, axis=1)\n",
    "num_sub.head(2)"
   ]
  },
  {
   "cell_type": "code",
   "execution_count": 26,
   "metadata": {},
   "outputs": [
    {
     "data": {
      "text/html": [
       "<div>\n",
       "<style scoped>\n",
       "    .dataframe tbody tr th:only-of-type {\n",
       "        vertical-align: middle;\n",
       "    }\n",
       "\n",
       "    .dataframe tbody tr th {\n",
       "        vertical-align: top;\n",
       "    }\n",
       "\n",
       "    .dataframe thead th {\n",
       "        text-align: right;\n",
       "    }\n",
       "</style>\n",
       "<table border=\"1\" class=\"dataframe\">\n",
       "  <thead>\n",
       "    <tr style=\"text-align: right;\">\n",
       "      <th></th>\n",
       "      <th>hour</th>\n",
       "      <th>day</th>\n",
       "      <th>month</th>\n",
       "      <th>year</th>\n",
       "      <th>goal</th>\n",
       "      <th>outcome</th>\n",
       "      <th>category</th>\n",
       "      <th>currency</th>\n",
       "      <th>country</th>\n",
       "      <th>country_categ</th>\n",
       "      <th>category_curren</th>\n",
       "    </tr>\n",
       "  </thead>\n",
       "  <tbody>\n",
       "    <tr>\n",
       "      <th>340783</th>\n",
       "      <td>14</td>\n",
       "      <td>27</td>\n",
       "      <td>10</td>\n",
       "      <td>2014</td>\n",
       "      <td>3000.0</td>\n",
       "      <td>1</td>\n",
       "      <td>Calendars</td>\n",
       "      <td>USD</td>\n",
       "      <td>US</td>\n",
       "      <td>US_Calendars</td>\n",
       "      <td>Calendars_USD</td>\n",
       "    </tr>\n",
       "    <tr>\n",
       "      <th>340784</th>\n",
       "      <td>18</td>\n",
       "      <td>19</td>\n",
       "      <td>8</td>\n",
       "      <td>2015</td>\n",
       "      <td>2500.0</td>\n",
       "      <td>0</td>\n",
       "      <td>Rock</td>\n",
       "      <td>USD</td>\n",
       "      <td>US</td>\n",
       "      <td>US_Rock</td>\n",
       "      <td>Rock_USD</td>\n",
       "    </tr>\n",
       "  </tbody>\n",
       "</table>\n",
       "</div>"
      ],
      "text/plain": [
       "        hour  day  month  year    goal  outcome   category currency country  \\\n",
       "340783    14   27     10  2014  3000.0        1  Calendars      USD      US   \n",
       "340784    18   19      8  2015  2500.0        0       Rock      USD      US   \n",
       "\n",
       "       country_categ category_curren  \n",
       "340783  US_Calendars   Calendars_USD  \n",
       "340784       US_Rock        Rock_USD  "
      ]
     },
     "execution_count": 26,
     "metadata": {},
     "output_type": "execute_result"
    }
   ],
   "source": [
    "valid_fraction = 0.1\n",
    "valid_size = int(len(new_X) * valid_fraction)\n",
    "\n",
    "train = new_X[: -2* valid_size]\n",
    "valid = new_X[-2*valid_size: -valid_size]\n",
    "test = new_X[-valid_size:]\n",
    "test.head(2)"
   ]
  },
  {
   "cell_type": "code",
   "execution_count": 27,
   "metadata": {},
   "outputs": [
    {
     "data": {
      "text/plain": [
       "CountEncoder(cols=['category', 'currency', 'country', 'country_categ',\n",
       "                   'category_curren'],\n",
       "             combine_min_nan_groups=True, drop_invariant=False,\n",
       "             handle_missing='count', handle_unknown=None, min_group_name=None,\n",
       "             min_group_size=None, normalize=False, return_df=True, verbose=0)"
      ]
     },
     "execution_count": 27,
     "metadata": {},
     "output_type": "execute_result"
    }
   ],
   "source": [
    "my_enc = ce.CountEncoder(cols=cat_cols)\n",
    "my_enc.fit(train[cat_cols])"
   ]
  },
  {
   "cell_type": "code",
   "execution_count": 44,
   "metadata": {},
   "outputs": [
    {
     "data": {
      "text/html": [
       "<div>\n",
       "<style scoped>\n",
       "    .dataframe tbody tr th:only-of-type {\n",
       "        vertical-align: middle;\n",
       "    }\n",
       "\n",
       "    .dataframe tbody tr th {\n",
       "        vertical-align: top;\n",
       "    }\n",
       "\n",
       "    .dataframe thead th {\n",
       "        text-align: right;\n",
       "    }\n",
       "</style>\n",
       "<table border=\"1\" class=\"dataframe\">\n",
       "  <thead>\n",
       "    <tr style=\"text-align: right;\">\n",
       "      <th></th>\n",
       "      <th>hour</th>\n",
       "      <th>day</th>\n",
       "      <th>month</th>\n",
       "      <th>year</th>\n",
       "      <th>goal</th>\n",
       "      <th>outcome</th>\n",
       "      <th>category</th>\n",
       "      <th>currency</th>\n",
       "      <th>country</th>\n",
       "      <th>country_categ</th>\n",
       "      <th>category_curren</th>\n",
       "      <th>category_count</th>\n",
       "      <th>currency_count</th>\n",
       "      <th>country_count</th>\n",
       "      <th>country_categ_count</th>\n",
       "      <th>category_curren_count</th>\n",
       "    </tr>\n",
       "  </thead>\n",
       "  <tbody>\n",
       "    <tr>\n",
       "      <th>340783</th>\n",
       "      <td>14</td>\n",
       "      <td>27</td>\n",
       "      <td>10</td>\n",
       "      <td>2014</td>\n",
       "      <td>3000.0</td>\n",
       "      <td>1</td>\n",
       "      <td>Calendars</td>\n",
       "      <td>USD</td>\n",
       "      <td>US</td>\n",
       "      <td>US_Calendars</td>\n",
       "      <td>Calendars_USD</td>\n",
       "      <td>235</td>\n",
       "      <td>234783</td>\n",
       "      <td>232607</td>\n",
       "      <td>162.0</td>\n",
       "      <td>162.0</td>\n",
       "    </tr>\n",
       "    <tr>\n",
       "      <th>340784</th>\n",
       "      <td>18</td>\n",
       "      <td>19</td>\n",
       "      <td>8</td>\n",
       "      <td>2015</td>\n",
       "      <td>2500.0</td>\n",
       "      <td>0</td>\n",
       "      <td>Rock</td>\n",
       "      <td>USD</td>\n",
       "      <td>US</td>\n",
       "      <td>US_Rock</td>\n",
       "      <td>Rock_USD</td>\n",
       "      <td>5360</td>\n",
       "      <td>234783</td>\n",
       "      <td>232607</td>\n",
       "      <td>4835.0</td>\n",
       "      <td>4835.0</td>\n",
       "    </tr>\n",
       "    <tr>\n",
       "      <th>340785</th>\n",
       "      <td>19</td>\n",
       "      <td>29</td>\n",
       "      <td>9</td>\n",
       "      <td>2015</td>\n",
       "      <td>750.0</td>\n",
       "      <td>1</td>\n",
       "      <td>Playing Cards</td>\n",
       "      <td>GBP</td>\n",
       "      <td>GB</td>\n",
       "      <td>GB_Playing Cards</td>\n",
       "      <td>Playing Cards_GBP</td>\n",
       "      <td>1974</td>\n",
       "      <td>27142</td>\n",
       "      <td>26770</td>\n",
       "      <td>184.0</td>\n",
       "      <td>184.0</td>\n",
       "    </tr>\n",
       "    <tr>\n",
       "      <th>340786</th>\n",
       "      <td>18</td>\n",
       "      <td>23</td>\n",
       "      <td>10</td>\n",
       "      <td>2016</td>\n",
       "      <td>15000.0</td>\n",
       "      <td>0</td>\n",
       "      <td>Musical</td>\n",
       "      <td>USD</td>\n",
       "      <td>US</td>\n",
       "      <td>US_Musical</td>\n",
       "      <td>Musical_USD</td>\n",
       "      <td>725</td>\n",
       "      <td>234783</td>\n",
       "      <td>232607</td>\n",
       "      <td>504.0</td>\n",
       "      <td>504.0</td>\n",
       "    </tr>\n",
       "    <tr>\n",
       "      <th>340787</th>\n",
       "      <td>3</td>\n",
       "      <td>8</td>\n",
       "      <td>3</td>\n",
       "      <td>2017</td>\n",
       "      <td>2000.0</td>\n",
       "      <td>1</td>\n",
       "      <td>Technology</td>\n",
       "      <td>CAD</td>\n",
       "      <td>CA</td>\n",
       "      <td>CA_Technology</td>\n",
       "      <td>Technology_CAD</td>\n",
       "      <td>5512</td>\n",
       "      <td>11911</td>\n",
       "      <td>11737</td>\n",
       "      <td>355.0</td>\n",
       "      <td>355.0</td>\n",
       "    </tr>\n",
       "  </tbody>\n",
       "</table>\n",
       "</div>"
      ],
      "text/plain": [
       "        hour  day  month  year     goal  outcome       category currency  \\\n",
       "340783    14   27     10  2014   3000.0        1      Calendars      USD   \n",
       "340784    18   19      8  2015   2500.0        0           Rock      USD   \n",
       "340785    19   29      9  2015    750.0        1  Playing Cards      GBP   \n",
       "340786    18   23     10  2016  15000.0        0        Musical      USD   \n",
       "340787     3    8      3  2017   2000.0        1     Technology      CAD   \n",
       "\n",
       "       country     country_categ    category_curren  category_count  \\\n",
       "340783      US      US_Calendars      Calendars_USD             235   \n",
       "340784      US           US_Rock           Rock_USD            5360   \n",
       "340785      GB  GB_Playing Cards  Playing Cards_GBP            1974   \n",
       "340786      US        US_Musical        Musical_USD             725   \n",
       "340787      CA     CA_Technology     Technology_CAD            5512   \n",
       "\n",
       "        currency_count  country_count  country_categ_count  \\\n",
       "340783          234783         232607                162.0   \n",
       "340784          234783         232607               4835.0   \n",
       "340785           27142          26770                184.0   \n",
       "340786          234783         232607                504.0   \n",
       "340787           11911          11737                355.0   \n",
       "\n",
       "        category_curren_count  \n",
       "340783                  162.0  \n",
       "340784                 4835.0  \n",
       "340785                  184.0  \n",
       "340786                  504.0  \n",
       "340787                  355.0  "
      ]
     },
     "execution_count": 44,
     "metadata": {},
     "output_type": "execute_result"
    }
   ],
   "source": [
    "train_2 = train.join(my_enc.transform(train[cat_cols]).add_suffix('_count'))\n",
    "valid_2 = valid.join(my_enc.transform(valid[cat_cols]).add_suffix('_count'))\n",
    "test_2 = test.join(my_enc.transform(test[cat_cols]).add_suffix('_count'))\n",
    "\n",
    "test_2.head()"
   ]
  },
  {
   "cell_type": "code",
   "execution_count": 35,
   "metadata": {},
   "outputs": [
    {
     "data": {
      "text/html": [
       "<div>\n",
       "<style scoped>\n",
       "    .dataframe tbody tr th:only-of-type {\n",
       "        vertical-align: middle;\n",
       "    }\n",
       "\n",
       "    .dataframe tbody tr th {\n",
       "        vertical-align: top;\n",
       "    }\n",
       "\n",
       "    .dataframe thead th {\n",
       "        text-align: right;\n",
       "    }\n",
       "</style>\n",
       "<table border=\"1\" class=\"dataframe\">\n",
       "  <thead>\n",
       "    <tr style=\"text-align: right;\">\n",
       "      <th></th>\n",
       "      <th>hour</th>\n",
       "      <th>day</th>\n",
       "      <th>month</th>\n",
       "      <th>year</th>\n",
       "      <th>goal</th>\n",
       "      <th>outcome</th>\n",
       "      <th>category</th>\n",
       "      <th>currency</th>\n",
       "      <th>country</th>\n",
       "      <th>country_categ</th>\n",
       "      <th>category_curren</th>\n",
       "      <th>category_count</th>\n",
       "      <th>currency_count</th>\n",
       "      <th>country_count</th>\n",
       "      <th>country_categ_count</th>\n",
       "      <th>category_curren_count</th>\n",
       "    </tr>\n",
       "  </thead>\n",
       "  <tbody>\n",
       "    <tr>\n",
       "      <th>340783</th>\n",
       "      <td>14</td>\n",
       "      <td>27</td>\n",
       "      <td>10</td>\n",
       "      <td>2014</td>\n",
       "      <td>3000.0</td>\n",
       "      <td>1</td>\n",
       "      <td>Calendars</td>\n",
       "      <td>USD</td>\n",
       "      <td>US</td>\n",
       "      <td>US_Calendars</td>\n",
       "      <td>Calendars_USD</td>\n",
       "      <td>235</td>\n",
       "      <td>234783</td>\n",
       "      <td>232607</td>\n",
       "      <td>162.0</td>\n",
       "      <td>162.0</td>\n",
       "    </tr>\n",
       "    <tr>\n",
       "      <th>340784</th>\n",
       "      <td>18</td>\n",
       "      <td>19</td>\n",
       "      <td>8</td>\n",
       "      <td>2015</td>\n",
       "      <td>2500.0</td>\n",
       "      <td>0</td>\n",
       "      <td>Rock</td>\n",
       "      <td>USD</td>\n",
       "      <td>US</td>\n",
       "      <td>US_Rock</td>\n",
       "      <td>Rock_USD</td>\n",
       "      <td>5360</td>\n",
       "      <td>234783</td>\n",
       "      <td>232607</td>\n",
       "      <td>4835.0</td>\n",
       "      <td>4835.0</td>\n",
       "    </tr>\n",
       "  </tbody>\n",
       "</table>\n",
       "</div>"
      ],
      "text/plain": [
       "        hour  day  month  year    goal  outcome   category currency country  \\\n",
       "340783    14   27     10  2014  3000.0        1  Calendars      USD      US   \n",
       "340784    18   19      8  2015  2500.0        0       Rock      USD      US   \n",
       "\n",
       "       country_categ category_curren  category_count  currency_count  \\\n",
       "340783  US_Calendars   Calendars_USD             235          234783   \n",
       "340784       US_Rock        Rock_USD            5360          234783   \n",
       "\n",
       "        country_count  country_categ_count  category_curren_count  \n",
       "340783         232607                162.0                  162.0  \n",
       "340784         232607               4835.0                 4835.0  "
      ]
     },
     "execution_count": 35,
     "metadata": {},
     "output_type": "execute_result"
    }
   ],
   "source": [
    "test_2.head(2)"
   ]
  },
  {
   "cell_type": "code",
   "execution_count": 29,
   "metadata": {},
   "outputs": [
    {
     "data": {
      "text/plain": [
       "Index(['hour', 'day', 'month', 'year', 'goal', 'category_count',\n",
       "       'currency_count', 'country_count', 'country_categ_count',\n",
       "       'category_curren_count'],\n",
       "      dtype='object')"
      ]
     },
     "execution_count": 29,
     "metadata": {},
     "output_type": "execute_result"
    }
   ],
   "source": [
    "features = train_2.columns.drop(['outcome', 'category', 'currency', 'country', 'country_categ', 'category_curren'])\n",
    "features"
   ]
  },
  {
   "cell_type": "code",
   "execution_count": 30,
   "metadata": {},
   "outputs": [
    {
     "data": {
      "text/plain": [
       "<lightgbm.basic.Dataset at 0x21af342dd08>"
      ]
     },
     "execution_count": 30,
     "metadata": {},
     "output_type": "execute_result"
    }
   ],
   "source": [
    "dtrain = lgb.Dataset(train_2[features], train_2['outcome'])\n",
    "dvalid = lgb.Dataset(valid_2[features], valid_2['outcome'])\n",
    "dtrain"
   ]
  },
  {
   "cell_type": "code",
   "execution_count": 31,
   "metadata": {},
   "outputs": [],
   "source": [
    "param = {'num_leaves': 65, 'objective': 'binary', 'metrics': 'auc'}\n",
    "num_rounds = 1000"
   ]
  },
  {
   "cell_type": "code",
   "execution_count": 42,
   "metadata": {},
   "outputs": [
    {
     "name": "stdout",
     "output_type": "stream",
     "text": [
      "[LightGBM] [Info] Number of positive: 107340, number of negative: 193350\n",
      "[LightGBM] [Warning] Auto-choosing col-wise multi-threading, the overhead of testing was 0.052504 seconds.\n",
      "You can set `force_col_wise=true` to remove the overhead.\n",
      "[LightGBM] [Info] Total Bins 946\n",
      "[LightGBM] [Info] Number of data points in the train set: 300690, number of used features: 10\n",
      "[LightGBM] [Info] [binary:BoostFromScore]: pavg=0.356979 -> initscore=-0.588501\n",
      "[LightGBM] [Info] Start training from score -0.588501\n",
      "%%%%%%%%%%%%%%%%%%%%%%%%%%%%%%%%%%%%%%%%%%%%\n",
      "Best valid score: defaultdict(<class 'collections.OrderedDict'>, {'valid_0': OrderedDict([('auc', 0.7463650082553166)])})\n"
     ]
    }
   ],
   "source": [
    "model_2 = lgb.train(param, dtrain, num_rounds, valid_sets=[dvalid], early_stopping_rounds=5, verbose_eval=False)\n",
    "\n",
    "print('%%%%%%%%%%%%%%%%%%%%%%%%%%%%%%%%%%%%%%%%%%%%')\n",
    "print(f\"Best valid score: {model_2.best_score}\")"
   ]
  },
  {
   "cell_type": "code",
   "execution_count": 33,
   "metadata": {},
   "outputs": [
    {
     "data": {
      "text/plain": [
       "array([0.46384117, 0.51083014, 0.41097405, ..., 0.36342515, 0.22722291,\n",
       "       0.58696262])"
      ]
     },
     "execution_count": 33,
     "metadata": {},
     "output_type": "execute_result"
    }
   ],
   "source": [
    "preds_2 = model_2.predict(test_2[features])\n",
    "preds_2"
   ]
  },
  {
   "cell_type": "code",
   "execution_count": 43,
   "metadata": {},
   "outputs": [
    {
     "name": "stdout",
     "output_type": "stream",
     "text": [
      "The Test Score:\n"
     ]
    },
    {
     "data": {
      "text/plain": [
       "0.7459727149439198"
      ]
     },
     "execution_count": 43,
     "metadata": {},
     "output_type": "execute_result"
    }
   ],
   "source": [
    "score_2 = metrics.roc_auc_score(test_2['outcome'], preds_2)\n",
    "print('The Test Score:')\n",
    "score_2"
   ]
  },
  {
   "cell_type": "code",
   "execution_count": null,
   "metadata": {},
   "outputs": [],
   "source": []
  }
 ],
 "metadata": {
  "kernelspec": {
   "display_name": "Python 3",
   "language": "python",
   "name": "python3"
  },
  "language_info": {
   "codemirror_mode": {
    "name": "ipython",
    "version": 3
   },
   "file_extension": ".py",
   "mimetype": "text/x-python",
   "name": "python",
   "nbconvert_exporter": "python",
   "pygments_lexer": "ipython3",
   "version": "3.7.6"
  }
 },
 "nbformat": 4,
 "nbformat_minor": 4
}
