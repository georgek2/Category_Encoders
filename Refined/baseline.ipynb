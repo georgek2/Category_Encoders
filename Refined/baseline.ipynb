{
 "cells": [
  {
   "cell_type": "code",
   "execution_count": 1,
   "metadata": {},
   "outputs": [],
   "source": [
    "import pandas as pd\n",
    "import numpy as np\n",
    "\n",
    "import lightgbm as lgb\n",
    "from sklearn.preprocessing import LabelEncoder\n",
    "from sklearn import metrics"
   ]
  },
  {
   "cell_type": "code",
   "execution_count": 2,
   "metadata": {},
   "outputs": [
    {
     "data": {
      "text/html": [
       "<div>\n",
       "<style scoped>\n",
       "    .dataframe tbody tr th:only-of-type {\n",
       "        vertical-align: middle;\n",
       "    }\n",
       "\n",
       "    .dataframe tbody tr th {\n",
       "        vertical-align: top;\n",
       "    }\n",
       "\n",
       "    .dataframe thead th {\n",
       "        text-align: right;\n",
       "    }\n",
       "</style>\n",
       "<table border=\"1\" class=\"dataframe\">\n",
       "  <thead>\n",
       "    <tr style=\"text-align: right;\">\n",
       "      <th></th>\n",
       "      <th>ID</th>\n",
       "      <th>name</th>\n",
       "      <th>category</th>\n",
       "      <th>main_category</th>\n",
       "      <th>currency</th>\n",
       "      <th>deadline</th>\n",
       "      <th>goal</th>\n",
       "      <th>launched</th>\n",
       "      <th>pledged</th>\n",
       "      <th>state</th>\n",
       "      <th>backers</th>\n",
       "      <th>country</th>\n",
       "      <th>usd pledged</th>\n",
       "      <th>usd_pledged_real</th>\n",
       "      <th>usd_goal_real</th>\n",
       "    </tr>\n",
       "  </thead>\n",
       "  <tbody>\n",
       "    <tr>\n",
       "      <th>0</th>\n",
       "      <td>1000002330</td>\n",
       "      <td>The Songs of Adelaide &amp; Abullah</td>\n",
       "      <td>Poetry</td>\n",
       "      <td>Publishing</td>\n",
       "      <td>GBP</td>\n",
       "      <td>2015-10-09</td>\n",
       "      <td>1000.0</td>\n",
       "      <td>2015-08-11 12:12:28</td>\n",
       "      <td>0.0</td>\n",
       "      <td>failed</td>\n",
       "      <td>0</td>\n",
       "      <td>GB</td>\n",
       "      <td>0.0</td>\n",
       "      <td>0.0</td>\n",
       "      <td>1533.95</td>\n",
       "    </tr>\n",
       "    <tr>\n",
       "      <th>1</th>\n",
       "      <td>1000003930</td>\n",
       "      <td>Greeting From Earth: ZGAC Arts Capsule For ET</td>\n",
       "      <td>Narrative Film</td>\n",
       "      <td>Film &amp; Video</td>\n",
       "      <td>USD</td>\n",
       "      <td>2017-11-01</td>\n",
       "      <td>30000.0</td>\n",
       "      <td>2017-09-02 04:43:57</td>\n",
       "      <td>2421.0</td>\n",
       "      <td>failed</td>\n",
       "      <td>15</td>\n",
       "      <td>US</td>\n",
       "      <td>100.0</td>\n",
       "      <td>2421.0</td>\n",
       "      <td>30000.00</td>\n",
       "    </tr>\n",
       "    <tr>\n",
       "      <th>2</th>\n",
       "      <td>1000004038</td>\n",
       "      <td>Where is Hank?</td>\n",
       "      <td>Narrative Film</td>\n",
       "      <td>Film &amp; Video</td>\n",
       "      <td>USD</td>\n",
       "      <td>2013-02-26</td>\n",
       "      <td>45000.0</td>\n",
       "      <td>2013-01-12 00:20:50</td>\n",
       "      <td>220.0</td>\n",
       "      <td>failed</td>\n",
       "      <td>3</td>\n",
       "      <td>US</td>\n",
       "      <td>220.0</td>\n",
       "      <td>220.0</td>\n",
       "      <td>45000.00</td>\n",
       "    </tr>\n",
       "  </tbody>\n",
       "</table>\n",
       "</div>"
      ],
      "text/plain": [
       "           ID                                           name        category  \\\n",
       "0  1000002330                The Songs of Adelaide & Abullah          Poetry   \n",
       "1  1000003930  Greeting From Earth: ZGAC Arts Capsule For ET  Narrative Film   \n",
       "2  1000004038                                 Where is Hank?  Narrative Film   \n",
       "\n",
       "  main_category currency    deadline     goal            launched  pledged  \\\n",
       "0    Publishing      GBP  2015-10-09   1000.0 2015-08-11 12:12:28      0.0   \n",
       "1  Film & Video      USD  2017-11-01  30000.0 2017-09-02 04:43:57   2421.0   \n",
       "2  Film & Video      USD  2013-02-26  45000.0 2013-01-12 00:20:50    220.0   \n",
       "\n",
       "    state  backers country  usd pledged  usd_pledged_real  usd_goal_real  \n",
       "0  failed        0      GB          0.0               0.0        1533.95  \n",
       "1  failed       15      US        100.0            2421.0       30000.00  \n",
       "2  failed        3      US        220.0             220.0       45000.00  "
      ]
     },
     "execution_count": 2,
     "metadata": {},
     "output_type": "execute_result"
    }
   ],
   "source": [
    "data = pd.read_csv('kickstarter.csv', parse_dates=['launched'])\n",
    "data.head(3)"
   ]
  },
  {
   "cell_type": "code",
   "execution_count": 3,
   "metadata": {},
   "outputs": [
    {
     "data": {
      "text/plain": [
       "(378661, 19)"
      ]
     },
     "execution_count": 3,
     "metadata": {},
     "output_type": "execute_result"
    }
   ],
   "source": [
    "data = data.assign(hour=data.launched.dt.hour,\n",
    "                  day=data.launched.dt.day,\n",
    "                  month=data.launched.dt.month,\n",
    "                  year=data.launched.dt.year)\n",
    "data.shape"
   ]
  },
  {
   "cell_type": "code",
   "execution_count": 4,
   "metadata": {},
   "outputs": [
    {
     "data": {
      "text/plain": [
       "(375862, 19)"
      ]
     },
     "execution_count": 4,
     "metadata": {},
     "output_type": "execute_result"
    }
   ],
   "source": [
    "data = data.query(\"state != 'live'\")\n",
    "data.shape"
   ]
  },
  {
   "cell_type": "code",
   "execution_count": 5,
   "metadata": {},
   "outputs": [
    {
     "data": {
      "text/html": [
       "<div>\n",
       "<style scoped>\n",
       "    .dataframe tbody tr th:only-of-type {\n",
       "        vertical-align: middle;\n",
       "    }\n",
       "\n",
       "    .dataframe tbody tr th {\n",
       "        vertical-align: top;\n",
       "    }\n",
       "\n",
       "    .dataframe thead th {\n",
       "        text-align: right;\n",
       "    }\n",
       "</style>\n",
       "<table border=\"1\" class=\"dataframe\">\n",
       "  <thead>\n",
       "    <tr style=\"text-align: right;\">\n",
       "      <th></th>\n",
       "      <th>ID</th>\n",
       "      <th>name</th>\n",
       "      <th>category</th>\n",
       "      <th>main_category</th>\n",
       "      <th>currency</th>\n",
       "      <th>deadline</th>\n",
       "      <th>goal</th>\n",
       "      <th>launched</th>\n",
       "      <th>pledged</th>\n",
       "      <th>state</th>\n",
       "      <th>backers</th>\n",
       "      <th>country</th>\n",
       "      <th>usd pledged</th>\n",
       "      <th>usd_pledged_real</th>\n",
       "      <th>usd_goal_real</th>\n",
       "      <th>hour</th>\n",
       "      <th>day</th>\n",
       "      <th>month</th>\n",
       "      <th>year</th>\n",
       "      <th>outcome</th>\n",
       "    </tr>\n",
       "  </thead>\n",
       "  <tbody>\n",
       "    <tr>\n",
       "      <th>0</th>\n",
       "      <td>1000002330</td>\n",
       "      <td>The Songs of Adelaide &amp; Abullah</td>\n",
       "      <td>Poetry</td>\n",
       "      <td>Publishing</td>\n",
       "      <td>GBP</td>\n",
       "      <td>2015-10-09</td>\n",
       "      <td>1000.0</td>\n",
       "      <td>2015-08-11 12:12:28</td>\n",
       "      <td>0.0</td>\n",
       "      <td>failed</td>\n",
       "      <td>0</td>\n",
       "      <td>GB</td>\n",
       "      <td>0.0</td>\n",
       "      <td>0.0</td>\n",
       "      <td>1533.95</td>\n",
       "      <td>12</td>\n",
       "      <td>11</td>\n",
       "      <td>8</td>\n",
       "      <td>2015</td>\n",
       "      <td>0</td>\n",
       "    </tr>\n",
       "    <tr>\n",
       "      <th>1</th>\n",
       "      <td>1000003930</td>\n",
       "      <td>Greeting From Earth: ZGAC Arts Capsule For ET</td>\n",
       "      <td>Narrative Film</td>\n",
       "      <td>Film &amp; Video</td>\n",
       "      <td>USD</td>\n",
       "      <td>2017-11-01</td>\n",
       "      <td>30000.0</td>\n",
       "      <td>2017-09-02 04:43:57</td>\n",
       "      <td>2421.0</td>\n",
       "      <td>failed</td>\n",
       "      <td>15</td>\n",
       "      <td>US</td>\n",
       "      <td>100.0</td>\n",
       "      <td>2421.0</td>\n",
       "      <td>30000.00</td>\n",
       "      <td>4</td>\n",
       "      <td>2</td>\n",
       "      <td>9</td>\n",
       "      <td>2017</td>\n",
       "      <td>0</td>\n",
       "    </tr>\n",
       "  </tbody>\n",
       "</table>\n",
       "</div>"
      ],
      "text/plain": [
       "           ID                                           name        category  \\\n",
       "0  1000002330                The Songs of Adelaide & Abullah          Poetry   \n",
       "1  1000003930  Greeting From Earth: ZGAC Arts Capsule For ET  Narrative Film   \n",
       "\n",
       "  main_category currency    deadline     goal            launched  pledged  \\\n",
       "0    Publishing      GBP  2015-10-09   1000.0 2015-08-11 12:12:28      0.0   \n",
       "1  Film & Video      USD  2017-11-01  30000.0 2017-09-02 04:43:57   2421.0   \n",
       "\n",
       "    state  backers country  usd pledged  usd_pledged_real  usd_goal_real  \\\n",
       "0  failed        0      GB          0.0               0.0        1533.95   \n",
       "1  failed       15      US        100.0            2421.0       30000.00   \n",
       "\n",
       "   hour  day  month  year  outcome  \n",
       "0    12   11      8  2015        0  \n",
       "1     4    2      9  2017        0  "
      ]
     },
     "execution_count": 5,
     "metadata": {},
     "output_type": "execute_result"
    }
   ],
   "source": [
    "data = data.assign(outcome=(data.state == 'successful').astype(int))\n",
    "data.head(2)"
   ]
  },
  {
   "cell_type": "code",
   "execution_count": 6,
   "metadata": {},
   "outputs": [],
   "source": [
    "cat_features = ['category', 'currency', 'country']"
   ]
  },
  {
   "cell_type": "code",
   "execution_count": 7,
   "metadata": {},
   "outputs": [],
   "source": [
    "sub_1 = data[['hour', 'day', 'month', 'year', 'goal', 'outcome']]"
   ]
  },
  {
   "cell_type": "code",
   "execution_count": 8,
   "metadata": {},
   "outputs": [],
   "source": [
    "encoder = LabelEncoder()"
   ]
  },
  {
   "cell_type": "code",
   "execution_count": 9,
   "metadata": {},
   "outputs": [
    {
     "data": {
      "text/html": [
       "<div>\n",
       "<style scoped>\n",
       "    .dataframe tbody tr th:only-of-type {\n",
       "        vertical-align: middle;\n",
       "    }\n",
       "\n",
       "    .dataframe tbody tr th {\n",
       "        vertical-align: top;\n",
       "    }\n",
       "\n",
       "    .dataframe thead th {\n",
       "        text-align: right;\n",
       "    }\n",
       "</style>\n",
       "<table border=\"1\" class=\"dataframe\">\n",
       "  <thead>\n",
       "    <tr style=\"text-align: right;\">\n",
       "      <th></th>\n",
       "      <th>category</th>\n",
       "      <th>currency</th>\n",
       "      <th>country</th>\n",
       "    </tr>\n",
       "  </thead>\n",
       "  <tbody>\n",
       "    <tr>\n",
       "      <th>0</th>\n",
       "      <td>108</td>\n",
       "      <td>5</td>\n",
       "      <td>9</td>\n",
       "    </tr>\n",
       "    <tr>\n",
       "      <th>1</th>\n",
       "      <td>93</td>\n",
       "      <td>13</td>\n",
       "      <td>22</td>\n",
       "    </tr>\n",
       "    <tr>\n",
       "      <th>2</th>\n",
       "      <td>93</td>\n",
       "      <td>13</td>\n",
       "      <td>22</td>\n",
       "    </tr>\n",
       "    <tr>\n",
       "      <th>3</th>\n",
       "      <td>90</td>\n",
       "      <td>13</td>\n",
       "      <td>22</td>\n",
       "    </tr>\n",
       "    <tr>\n",
       "      <th>4</th>\n",
       "      <td>55</td>\n",
       "      <td>13</td>\n",
       "      <td>22</td>\n",
       "    </tr>\n",
       "  </tbody>\n",
       "</table>\n",
       "</div>"
      ],
      "text/plain": [
       "   category  currency  country\n",
       "0       108         5        9\n",
       "1        93        13       22\n",
       "2        93        13       22\n",
       "3        90        13       22\n",
       "4        55        13       22"
      ]
     },
     "execution_count": 9,
     "metadata": {},
     "output_type": "execute_result"
    }
   ],
   "source": [
    "encoded = data[cat_features].apply(encoder.fit_transform)\n",
    "encoded.head()"
   ]
  },
  {
   "cell_type": "code",
   "execution_count": 10,
   "metadata": {},
   "outputs": [
    {
     "data": {
      "text/html": [
       "<div>\n",
       "<style scoped>\n",
       "    .dataframe tbody tr th:only-of-type {\n",
       "        vertical-align: middle;\n",
       "    }\n",
       "\n",
       "    .dataframe tbody tr th {\n",
       "        vertical-align: top;\n",
       "    }\n",
       "\n",
       "    .dataframe thead th {\n",
       "        text-align: right;\n",
       "    }\n",
       "</style>\n",
       "<table border=\"1\" class=\"dataframe\">\n",
       "  <thead>\n",
       "    <tr style=\"text-align: right;\">\n",
       "      <th></th>\n",
       "      <th>hour</th>\n",
       "      <th>day</th>\n",
       "      <th>month</th>\n",
       "      <th>year</th>\n",
       "      <th>goal</th>\n",
       "      <th>outcome</th>\n",
       "      <th>category</th>\n",
       "      <th>currency</th>\n",
       "      <th>country</th>\n",
       "    </tr>\n",
       "  </thead>\n",
       "  <tbody>\n",
       "    <tr>\n",
       "      <th>0</th>\n",
       "      <td>12</td>\n",
       "      <td>11</td>\n",
       "      <td>8</td>\n",
       "      <td>2015</td>\n",
       "      <td>1000.0</td>\n",
       "      <td>0</td>\n",
       "      <td>108</td>\n",
       "      <td>5</td>\n",
       "      <td>9</td>\n",
       "    </tr>\n",
       "    <tr>\n",
       "      <th>1</th>\n",
       "      <td>4</td>\n",
       "      <td>2</td>\n",
       "      <td>9</td>\n",
       "      <td>2017</td>\n",
       "      <td>30000.0</td>\n",
       "      <td>0</td>\n",
       "      <td>93</td>\n",
       "      <td>13</td>\n",
       "      <td>22</td>\n",
       "    </tr>\n",
       "    <tr>\n",
       "      <th>2</th>\n",
       "      <td>0</td>\n",
       "      <td>12</td>\n",
       "      <td>1</td>\n",
       "      <td>2013</td>\n",
       "      <td>45000.0</td>\n",
       "      <td>0</td>\n",
       "      <td>93</td>\n",
       "      <td>13</td>\n",
       "      <td>22</td>\n",
       "    </tr>\n",
       "    <tr>\n",
       "      <th>3</th>\n",
       "      <td>3</td>\n",
       "      <td>17</td>\n",
       "      <td>3</td>\n",
       "      <td>2012</td>\n",
       "      <td>5000.0</td>\n",
       "      <td>0</td>\n",
       "      <td>90</td>\n",
       "      <td>13</td>\n",
       "      <td>22</td>\n",
       "    </tr>\n",
       "    <tr>\n",
       "      <th>4</th>\n",
       "      <td>8</td>\n",
       "      <td>4</td>\n",
       "      <td>7</td>\n",
       "      <td>2015</td>\n",
       "      <td>19500.0</td>\n",
       "      <td>0</td>\n",
       "      <td>55</td>\n",
       "      <td>13</td>\n",
       "      <td>22</td>\n",
       "    </tr>\n",
       "  </tbody>\n",
       "</table>\n",
       "</div>"
      ],
      "text/plain": [
       "   hour  day  month  year     goal  outcome  category  currency  country\n",
       "0    12   11      8  2015   1000.0        0       108         5        9\n",
       "1     4    2      9  2017  30000.0        0        93        13       22\n",
       "2     0   12      1  2013  45000.0        0        93        13       22\n",
       "3     3   17      3  2012   5000.0        0        90        13       22\n",
       "4     8    4      7  2015  19500.0        0        55        13       22"
      ]
     },
     "execution_count": 10,
     "metadata": {},
     "output_type": "execute_result"
    }
   ],
   "source": [
    "X = pd.concat([sub_1, encoded], axis=1)\n",
    "X.head()"
   ]
  },
  {
   "cell_type": "code",
   "execution_count": 11,
   "metadata": {},
   "outputs": [
    {
     "data": {
      "text/plain": [
       "(375862, 9)"
      ]
     },
     "execution_count": 11,
     "metadata": {},
     "output_type": "execute_result"
    }
   ],
   "source": [
    "X.shape"
   ]
  },
  {
   "cell_type": "code",
   "execution_count": 12,
   "metadata": {},
   "outputs": [],
   "source": [
    "valid_fraction = 0.1\n",
    "\n",
    "valid_size = int(len(X) * valid_fraction)\n",
    "\n",
    "train = X[: -2 * valid_size]\n",
    "\n",
    "valid = X[-2 * valid_size : -valid_size]\n",
    "\n",
    "test = X[-valid_size:]"
   ]
  },
  {
   "cell_type": "code",
   "execution_count": 13,
   "metadata": {},
   "outputs": [
    {
     "data": {
      "text/plain": [
       "(300690, 9)"
      ]
     },
     "execution_count": 13,
     "metadata": {},
     "output_type": "execute_result"
    }
   ],
   "source": [
    "train.shape"
   ]
  },
  {
   "cell_type": "code",
   "execution_count": 14,
   "metadata": {},
   "outputs": [
    {
     "data": {
      "text/plain": [
       "(37586, 9)"
      ]
     },
     "execution_count": 14,
     "metadata": {},
     "output_type": "execute_result"
    }
   ],
   "source": [
    "test.shape"
   ]
  },
  {
   "cell_type": "code",
   "execution_count": 15,
   "metadata": {},
   "outputs": [
    {
     "data": {
      "text/plain": [
       "Index(['hour', 'day', 'month', 'year', 'goal', 'category', 'currency',\n",
       "       'country'],\n",
       "      dtype='object')"
      ]
     },
     "execution_count": 15,
     "metadata": {},
     "output_type": "execute_result"
    }
   ],
   "source": [
    "features = train.columns.drop(['outcome'])\n",
    "features"
   ]
  },
  {
   "cell_type": "code",
   "execution_count": 16,
   "metadata": {},
   "outputs": [
    {
     "data": {
      "text/plain": [
       "<lightgbm.basic.Dataset at 0x22db678b248>"
      ]
     },
     "execution_count": 16,
     "metadata": {},
     "output_type": "execute_result"
    }
   ],
   "source": [
    "dtrain = lgb.Dataset(train[features], train['outcome'])\n",
    "dvalid = lgb.Dataset(valid[features], valid['outcome'])\n",
    "\n",
    "dtrain"
   ]
  },
  {
   "cell_type": "code",
   "execution_count": 17,
   "metadata": {},
   "outputs": [],
   "source": [
    "param = {'num_leaves': 65, 'objective': 'binary', 'metrics': 'auc'}\n",
    "\n",
    "num_rounds = 1000"
   ]
  },
  {
   "cell_type": "code",
   "execution_count": 18,
   "metadata": {},
   "outputs": [
    {
     "name": "stdout",
     "output_type": "stream",
     "text": [
      "[LightGBM] [Info] Number of positive: 107340, number of negative: 193350\n",
      "[LightGBM] [Warning] Auto-choosing row-wise multi-threading, the overhead of testing was 0.011627 seconds.\n",
      "You can set `force_row_wise=true` to remove the overhead.\n",
      "And if memory is not enough, you can set `force_col_wise=true`.\n",
      "[LightGBM] [Info] Total Bins 528\n",
      "[LightGBM] [Info] Number of data points in the train set: 300690, number of used features: 8\n",
      "[LightGBM] [Info] [binary:BoostFromScore]: pavg=0.356979 -> initscore=-0.588501\n",
      "[LightGBM] [Info] Start training from score -0.588501\n",
      "[1]\tvalid_0's auc: 0.694476\n",
      "Training until validation scores don't improve for 5 rounds\n",
      "[2]\tvalid_0's auc: 0.69772\n",
      "[3]\tvalid_0's auc: 0.700705\n",
      "[4]\tvalid_0's auc: 0.702191\n",
      "[5]\tvalid_0's auc: 0.706432\n",
      "[6]\tvalid_0's auc: 0.708326\n",
      "[7]\tvalid_0's auc: 0.709922\n",
      "[8]\tvalid_0's auc: 0.71056\n",
      "[9]\tvalid_0's auc: 0.71211\n",
      "[10]\tvalid_0's auc: 0.713593\n",
      "[11]\tvalid_0's auc: 0.71438\n",
      "[12]\tvalid_0's auc: 0.715205\n",
      "[13]\tvalid_0's auc: 0.717576\n",
      "[14]\tvalid_0's auc: 0.718702\n",
      "[15]\tvalid_0's auc: 0.720318\n",
      "[16]\tvalid_0's auc: 0.720954\n",
      "[17]\tvalid_0's auc: 0.722016\n",
      "[18]\tvalid_0's auc: 0.722747\n",
      "[19]\tvalid_0's auc: 0.723986\n",
      "[20]\tvalid_0's auc: 0.7244\n",
      "[21]\tvalid_0's auc: 0.725672\n",
      "[22]\tvalid_0's auc: 0.726729\n",
      "[23]\tvalid_0's auc: 0.727178\n",
      "[24]\tvalid_0's auc: 0.728083\n",
      "[25]\tvalid_0's auc: 0.729567\n",
      "[26]\tvalid_0's auc: 0.730164\n",
      "[27]\tvalid_0's auc: 0.730646\n",
      "[28]\tvalid_0's auc: 0.731512\n",
      "[29]\tvalid_0's auc: 0.731805\n",
      "[30]\tvalid_0's auc: 0.732109\n",
      "[31]\tvalid_0's auc: 0.732888\n",
      "[32]\tvalid_0's auc: 0.733098\n",
      "[33]\tvalid_0's auc: 0.734099\n",
      "[34]\tvalid_0's auc: 0.734572\n",
      "[35]\tvalid_0's auc: 0.735475\n",
      "[36]\tvalid_0's auc: 0.735752\n",
      "[37]\tvalid_0's auc: 0.736042\n",
      "[38]\tvalid_0's auc: 0.736505\n",
      "[39]\tvalid_0's auc: 0.736622\n",
      "[40]\tvalid_0's auc: 0.736921\n",
      "[41]\tvalid_0's auc: 0.737646\n",
      "[42]\tvalid_0's auc: 0.737739\n",
      "[43]\tvalid_0's auc: 0.738001\n",
      "[44]\tvalid_0's auc: 0.73823\n",
      "[45]\tvalid_0's auc: 0.738342\n",
      "[46]\tvalid_0's auc: 0.738522\n",
      "[47]\tvalid_0's auc: 0.738826\n",
      "[48]\tvalid_0's auc: 0.739155\n",
      "[49]\tvalid_0's auc: 0.739598\n",
      "[50]\tvalid_0's auc: 0.739718\n",
      "[51]\tvalid_0's auc: 0.740372\n",
      "[52]\tvalid_0's auc: 0.740658\n",
      "[53]\tvalid_0's auc: 0.74078\n",
      "[54]\tvalid_0's auc: 0.740931\n",
      "[55]\tvalid_0's auc: 0.741005\n",
      "[56]\tvalid_0's auc: 0.741032\n",
      "[57]\tvalid_0's auc: 0.74122\n",
      "[58]\tvalid_0's auc: 0.741468\n",
      "[59]\tvalid_0's auc: 0.741615\n",
      "[60]\tvalid_0's auc: 0.741764\n",
      "[61]\tvalid_0's auc: 0.741899\n",
      "[62]\tvalid_0's auc: 0.741932\n",
      "[63]\tvalid_0's auc: 0.742133\n",
      "[64]\tvalid_0's auc: 0.742344\n",
      "[65]\tvalid_0's auc: 0.742453\n",
      "[66]\tvalid_0's auc: 0.742503\n",
      "[67]\tvalid_0's auc: 0.742605\n",
      "[68]\tvalid_0's auc: 0.742637\n",
      "[69]\tvalid_0's auc: 0.74275\n",
      "[70]\tvalid_0's auc: 0.742779\n",
      "[71]\tvalid_0's auc: 0.742803\n",
      "[72]\tvalid_0's auc: 0.742873\n",
      "[73]\tvalid_0's auc: 0.74291\n",
      "[74]\tvalid_0's auc: 0.743104\n",
      "[75]\tvalid_0's auc: 0.743193\n",
      "[76]\tvalid_0's auc: 0.743204\n",
      "[77]\tvalid_0's auc: 0.743192\n",
      "[78]\tvalid_0's auc: 0.743205\n",
      "[79]\tvalid_0's auc: 0.743256\n",
      "[80]\tvalid_0's auc: 0.743294\n",
      "[81]\tvalid_0's auc: 0.743328\n",
      "[82]\tvalid_0's auc: 0.743384\n",
      "[83]\tvalid_0's auc: 0.743846\n",
      "[84]\tvalid_0's auc: 0.743873\n",
      "[85]\tvalid_0's auc: 0.743877\n",
      "[86]\tvalid_0's auc: 0.744062\n",
      "[87]\tvalid_0's auc: 0.744056\n",
      "[88]\tvalid_0's auc: 0.744108\n",
      "[89]\tvalid_0's auc: 0.744233\n",
      "[90]\tvalid_0's auc: 0.744267\n",
      "[91]\tvalid_0's auc: 0.74428\n",
      "[92]\tvalid_0's auc: 0.74429\n",
      "[93]\tvalid_0's auc: 0.744393\n",
      "[94]\tvalid_0's auc: 0.744434\n",
      "[95]\tvalid_0's auc: 0.744457\n",
      "[96]\tvalid_0's auc: 0.744448\n",
      "[97]\tvalid_0's auc: 0.744502\n",
      "[98]\tvalid_0's auc: 0.744615\n",
      "[99]\tvalid_0's auc: 0.744631\n",
      "[100]\tvalid_0's auc: 0.744673\n",
      "[101]\tvalid_0's auc: 0.744755\n",
      "[102]\tvalid_0's auc: 0.744741\n",
      "[103]\tvalid_0's auc: 0.744793\n",
      "[104]\tvalid_0's auc: 0.74478\n",
      "[105]\tvalid_0's auc: 0.744816\n",
      "[106]\tvalid_0's auc: 0.744788\n",
      "[107]\tvalid_0's auc: 0.744774\n",
      "[108]\tvalid_0's auc: 0.744774\n",
      "[109]\tvalid_0's auc: 0.74476\n",
      "[110]\tvalid_0's auc: 0.74483\n",
      "[111]\tvalid_0's auc: 0.745079\n",
      "[112]\tvalid_0's auc: 0.745114\n",
      "[113]\tvalid_0's auc: 0.745101\n",
      "[114]\tvalid_0's auc: 0.745081\n",
      "[115]\tvalid_0's auc: 0.745119\n",
      "[116]\tvalid_0's auc: 0.745104\n",
      "[117]\tvalid_0's auc: 0.745166\n",
      "[118]\tvalid_0's auc: 0.745155\n",
      "[119]\tvalid_0's auc: 0.745141\n",
      "[120]\tvalid_0's auc: 0.745184\n",
      "[121]\tvalid_0's auc: 0.745194\n",
      "[122]\tvalid_0's auc: 0.745172\n",
      "[123]\tvalid_0's auc: 0.745218\n",
      "[124]\tvalid_0's auc: 0.745275\n",
      "[125]\tvalid_0's auc: 0.745311\n",
      "[126]\tvalid_0's auc: 0.745329\n",
      "[127]\tvalid_0's auc: 0.745371\n",
      "[128]\tvalid_0's auc: 0.745449\n",
      "[129]\tvalid_0's auc: 0.745453\n",
      "[130]\tvalid_0's auc: 0.745424\n",
      "[131]\tvalid_0's auc: 0.745436\n",
      "[132]\tvalid_0's auc: 0.745458\n",
      "[133]\tvalid_0's auc: 0.745503\n",
      "[134]\tvalid_0's auc: 0.745493\n",
      "[135]\tvalid_0's auc: 0.745523\n",
      "[136]\tvalid_0's auc: 0.745575\n",
      "[137]\tvalid_0's auc: 0.745654\n",
      "[138]\tvalid_0's auc: 0.745673\n",
      "[139]\tvalid_0's auc: 0.745665\n",
      "[140]\tvalid_0's auc: 0.745646\n",
      "[141]\tvalid_0's auc: 0.745687\n",
      "[142]\tvalid_0's auc: 0.745664\n",
      "[143]\tvalid_0's auc: 0.745851\n",
      "[144]\tvalid_0's auc: 0.745885\n",
      "[145]\tvalid_0's auc: 0.745874\n",
      "[146]\tvalid_0's auc: 0.745997\n",
      "[147]\tvalid_0's auc: 0.746057\n",
      "[148]\tvalid_0's auc: 0.746039\n",
      "[149]\tvalid_0's auc: 0.74601\n",
      "[150]\tvalid_0's auc: 0.746027\n",
      "[151]\tvalid_0's auc: 0.746021\n",
      "[152]\tvalid_0's auc: 0.746047\n",
      "Early stopping, best iteration is:\n",
      "[147]\tvalid_0's auc: 0.746057\n"
     ]
    }
   ],
   "source": [
    "model = lgb.train(param, dtrain, num_rounds, valid_sets=[dvalid], early_stopping_rounds=5)"
   ]
  },
  {
   "cell_type": "code",
   "execution_count": 19,
   "metadata": {},
   "outputs": [
    {
     "data": {
      "text/plain": [
       "0.7464868776890301"
      ]
     },
     "execution_count": 19,
     "metadata": {},
     "output_type": "execute_result"
    }
   ],
   "source": [
    "preds = model.predict(test[features])\n",
    "score = metrics.roc_auc_score(test['outcome'], preds)\n",
    "score"
   ]
  },
  {
   "cell_type": "code",
   "execution_count": null,
   "metadata": {},
   "outputs": [],
   "source": []
  },
  {
   "cell_type": "code",
   "execution_count": null,
   "metadata": {},
   "outputs": [],
   "source": []
  }
 ],
 "metadata": {
  "kernelspec": {
   "display_name": "Python 3",
   "language": "python",
   "name": "python3"
  },
  "language_info": {
   "codemirror_mode": {
    "name": "ipython",
    "version": 3
   },
   "file_extension": ".py",
   "mimetype": "text/x-python",
   "name": "python",
   "nbconvert_exporter": "python",
   "pygments_lexer": "ipython3",
   "version": "3.7.6"
  }
 },
 "nbformat": 4,
 "nbformat_minor": 4
}
